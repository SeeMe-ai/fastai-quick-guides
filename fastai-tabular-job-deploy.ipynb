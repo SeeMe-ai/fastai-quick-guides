{
 "cells": [
  {
   "cell_type": "code",
   "execution_count": 1,
   "id": "54e38a2c",
   "metadata": {},
   "outputs": [],
   "source": [
    "%load_ext autoreload\n",
    "%autoreload 2"
   ]
  },
  {
   "cell_type": "code",
   "execution_count": 2,
   "id": "a33cd199",
   "metadata": {},
   "outputs": [
    {
     "name": "stdout",
     "output_type": "stream",
     "text": [
      "\u001b[33mWARNING: The directory '/root/.cache/pip' or its parent directory is not owned or is not writable by the current user. The cache has been disabled. Check the permissions and owner of that directory. If executing pip with sudo, you should use sudo's -H flag.\u001b[0m\u001b[33m\n",
      "\u001b[0mRequirement already satisfied: seeme in /opt/conda/lib/python3.7/site-packages (0.16.2)\n",
      "Collecting seeme\n",
      "  Downloading seeme-0.19.4-py3-none-any.whl (9.1 kB)\n",
      "Requirement already satisfied: requests-toolbelt>=0.9.1 in /opt/conda/lib/python3.7/site-packages (from seeme) (0.9.1)\n",
      "Requirement already satisfied: requests>=2.18.4 in /opt/conda/lib/python3.7/site-packages (from seeme) (2.27.1)\n",
      "Requirement already satisfied: python-dotenv in /opt/conda/lib/python3.7/site-packages (from seeme) (0.20.0)\n",
      "Requirement already satisfied: charset-normalizer~=2.0.0 in /opt/conda/lib/python3.7/site-packages (from requests>=2.18.4->seeme) (2.0.4)\n",
      "Requirement already satisfied: idna<4,>=2.5 in /opt/conda/lib/python3.7/site-packages (from requests>=2.18.4->seeme) (3.3)\n",
      "Requirement already satisfied: urllib3<1.27,>=1.21.1 in /opt/conda/lib/python3.7/site-packages (from requests>=2.18.4->seeme) (1.26.8)\n",
      "Requirement already satisfied: certifi>=2017.4.17 in /opt/conda/lib/python3.7/site-packages (from requests>=2.18.4->seeme) (2022.6.15)\n",
      "Installing collected packages: seeme\n",
      "  Attempting uninstall: seeme\n",
      "    Found existing installation: seeme 0.16.2\n",
      "    Uninstalling seeme-0.16.2:\n",
      "      Successfully uninstalled seeme-0.16.2\n",
      "Successfully installed seeme-0.19.4\n",
      "\u001b[33mWARNING: Running pip as the 'root' user can result in broken permissions and conflicting behaviour with the system package manager. It is recommended to use a virtual environment instead: https://pip.pypa.io/warnings/venv\u001b[0m\u001b[33m\n",
      "\u001b[0m"
     ]
    }
   ],
   "source": [
    "!pip install --upgrade seeme"
   ]
  },
  {
   "cell_type": "code",
   "execution_count": 3,
   "id": "58499592",
   "metadata": {},
   "outputs": [
    {
    }
   ],
   "source": [
    "from seeme import Client\n",
    "\n",
    "cl = Client(backend=\"http://192.168.0.3:5001/api/v1\")\n",
    "\n",
    "username = \"\"\n",
    "password = \"\"\n",
    "cl.login(username, password)"
   ]
  },
  {
   "cell_type": "code",
   "execution_count": 4,
   "id": "7a6e0de2",
   "metadata": {},
   "outputs": [],
   "source": [
    "# Dataset"
   ]
  },
  {
   "cell_type": "code",
   "execution_count": 5,
   "id": "a8befbb8",
   "metadata": {},
   "outputs": [],
   "source": [
    "ds = cl.get_datasets()"
   ]
  },
  {
   "cell_type": "code",
   "execution_count": 6,
   "id": "a1c40537",
   "metadata": {},
   "outputs": [
    {
     "data": {
      "text/plain": [
       "[{'id': '224315a3-3daf-4f38-bd5c-53dd2a8c8f71',\n",
       "  'created_at': '2022-09-27T10:51:02.381408+02:00',\n",
       "  'updated_at': '2022-09-27T10:51:08.333243+02:00',\n",
       "  'name': 'Adult dataset',\n",
       "  'description': 'Wage classification',\n",
       "  'user_id': '2b02eb44-8ad0-409c-9515-0405fb25d470',\n",
       "  'notes': '',\n",
       "  'has_logo': False,\n",
       "  'logo': '',\n",
       "  'public': False,\n",
       "  'shared_with_me': False,\n",
       "  'versions': None,\n",
       "  'multi_label': False,\n",
       "  'default_splits': False,\n",
       "  'content_type': 'tabular'},\n",
       " {'id': 'b753359a-25da-4ca9-bfac-94b3da258d79',\n",
       "  'created_at': '2022-09-27T09:26:40.585755+02:00',\n",
       "  'updated_at': '2022-09-27T09:26:44.565163+02:00',\n",
       "  'name': 'Adult dataset',\n",
       "  'description': 'Wage classification',\n",
       "  'user_id': '2b02eb44-8ad0-409c-9515-0405fb25d470',\n",
       "  'notes': '',\n",
       "  'has_logo': False,\n",
       "  'logo': '',\n",
       "  'public': False,\n",
       "  'shared_with_me': False,\n",
       "  'versions': None,\n",
       "  'multi_label': False,\n",
       "  'default_splits': False,\n",
       "  'content_type': 'tabular'},\n",
       " {'id': '9573ea77-e146-42b6-a5ec-092e7d5b893c',\n",
       "  'created_at': '2022-08-11T11:59:34.555831+02:00',\n",
       "  'updated_at': '2022-08-11T11:59:42.946366+02:00',\n",
       "  'name': 'Adults',\n",
       "  'description': '',\n",
       "  'user_id': '2b02eb44-8ad0-409c-9515-0405fb25d470',\n",
       "  'notes': '',\n",
       "  'has_logo': False,\n",
       "  'logo': '',\n",
       "  'public': False,\n",
       "  'shared_with_me': False,\n",
       "  'versions': None,\n",
       "  'multi_label': False,\n",
       "  'default_splits': False,\n",
       "  'content_type': 'tabular'}]"
      ]
     },
     "execution_count": 6,
     "metadata": {},
     "output_type": "execute_result"
    }
   ],
   "source": [
    "[d for d in ds if \"Adult\" in d[\"name\"]]"
   ]
  },
  {
   "cell_type": "code",
   "execution_count": 7,
   "id": "55ff0e50",
   "metadata": {},
   "outputs": [],
   "source": [
    "adult_dataset = {\n",
    "    \"name\": \"Adult dataset\",\n",
    "    \"description\": \"Wage classification\"\n",
    "}\n",
    "\n",
    "\n",
    "adult_dataset = cl.create_dataset(adult_dataset)"
   ]
  },
  {
   "cell_type": "code",
   "execution_count": 8,
   "id": "7b0a6a0a",
   "metadata": {},
   "outputs": [],
   "source": [
    "ds_version = adult_dataset[\"versions\"][0]"
   ]
  },
  {
   "cell_type": "code",
   "execution_count": 9,
   "id": "575d6c39",
   "metadata": {},
   "outputs": [],
   "source": [
    "d_id = adult_dataset[\"id\"]\n",
    "v_id = ds_version[\"id\"]"
   ]
  },
  {
   "cell_type": "code",
   "execution_count": 10,
   "id": "a25c3502",
   "metadata": {},
   "outputs": [],
   "source": [
    "csv_file = \"tabular_adult_csv.zip\"\n",
    "#csv_file = \"tabular_simple.csv.zip\""
   ]
  },
  {
   "cell_type": "code",
   "execution_count": 11,
   "id": "c7eabb9d",
   "metadata": {},
   "outputs": [],
   "source": [
    "from seeme import DATASET_FORMAT_CSV"
   ]
  },
  {
   "cell_type": "code",
   "execution_count": 12,
   "id": "00f6b44f",
   "metadata": {},
   "outputs": [],
   "source": [
    "ds_version = cl.upload_dataset_version(d_id, v_id, folder=\".\", filename=csv_file, format=DATASET_FORMAT_CSV )"
   ]
  },
  {
   "cell_type": "code",
   "execution_count": 13,
   "id": "88f62067",
   "metadata": {},
   "outputs": [],
   "source": [
    "# Train Job"
   ]
  },
  {
   "cell_type": "code",
   "execution_count": 14,
   "id": "89232657",
   "metadata": {},
   "outputs": [],
   "source": [
    "from seeme import JOB_STATUS_WAITING"
   ]
  },
  {
   "cell_type": "code",
   "execution_count": 15,
   "id": "d3319078",
   "metadata": {},
   "outputs": [],
   "source": [
    "import torch\n",
    "import fastai\n",
    "#-- Application ID --\n",
    "application_id = cl.get_application_id(\n",
    "    base_framework=\"pytorch\",\n",
    "    framework=\"fastai\",\n",
    "    base_framework_version=str(torch.__version__),\n",
    "    framework_version=str(fastai.__version__),\n",
    "    application=\"structured\"\n",
    ")"
   ]
  },
  {
   "cell_type": "code",
   "execution_count": 16,
   "id": "b89b6079",
   "metadata": {},
   "outputs": [
    {
     "data": {
      "text/plain": [
       "'1.12.1'"
      ]
     },
     "execution_count": 16,
     "metadata": {},
     "output_type": "execute_result"
    }
   ],
   "source": [
    "str(torch.__version__)"
   ]
  },
  {
   "cell_type": "code",
   "execution_count": 49,
   "id": "60e5c34d",
   "metadata": {},
   "outputs": [],
   "source": [
    "from seeme import JOB_TYPE_TRAINING\n",
    "\n",
    "job_name = \"Wage classifiction training\"\n",
    "job_description = \"First training job\"\n",
    "job_status_message =  \"Creating a new job\"\n",
    "\n",
    "job = {\n",
    "    \"name\": job_name,\n",
    "    \"description\": job_description,\n",
    "    \"status_message\": job_status_message,\n",
    "    \"application_id\": application_id,\n",
    "    \"job_type\": JOB_TYPE_TRAINING,\n",
    "    \"dataset_id\": d_id,\n",
    "    \"dataset_version_id\": v_id,\n",
    "    \"items\": [\n",
    "      {\n",
    "        \"name\": \"arch\",\n",
    "        \"value\": \"[200 - 100]\",\n",
    "        \"value_type\": \"text\",\n",
    "        \"label\": \"Architecture\"\n",
    "      },\n",
    "      {\n",
    "        \"name\": \"batch_size\",\n",
    "        \"value\": \"32\",\n",
    "        \"value_type\": \"number\",\n",
    "        \"label\": \"Batch Size\"\n",
    "    },\n",
    "        {\n",
    "    \"name\": \"nb_epochs\",\n",
    "    \"value\": \"50\",\n",
    "    \"value_type\": \"number\",\n",
    "    \"label\": \"Number of epochs\"\n",
    "}\n",
    "    ]\n",
    "}"
   ]
  },
  {
   "cell_type": "code",
   "execution_count": 50,
   "id": "6bc138fa",
   "metadata": {},
   "outputs": [],
   "source": [
    "\n",
    "job = cl.create_job(job)"
   ]
  },
  {
   "cell_type": "code",
   "execution_count": 53,
   "id": "2d5fcc64",
   "metadata": {},
   "outputs": [
    {
     "name": "stdout",
     "output_type": "stream",
     "text": [
      "finished\n"
     ]
    }
   ],
   "source": [
    "job = cl.get_job(job[\"id\"]);\n",
    "print(job[\"status\"])"
   ]
  },
  {
   "cell_type": "code",
   "execution_count": 54,
   "id": "18029ccd",
   "metadata": {},
   "outputs": [
    {
     "data": {
      "text/plain": [
       "{'id': 'c9de8c8c-9113-4dd3-ab49-dbed8c7af73e',\n",
       " 'created_at': '2022-09-27T21:18:30.337418+02:00',\n",
       " 'updated_at': '2022-09-27T21:24:00.168021+02:00',\n",
       " 'name': 'Wage classifiction training',\n",
       " 'description': 'First training job',\n",
       " 'job_type': 'training',\n",
       " 'application_id': 'd2b25196-dcad-4203-9cbb-87deec0e4f07',\n",
       " 'status': 'finished',\n",
       " 'status_message': 'updating training request: finished',\n",
       " 'user_id': '2b02eb44-8ad0-409c-9515-0405fb25d470',\n",
       " 'cpu_start_time': '2022-09-27T19:18:32.024237',\n",
       " 'cpu_end_time': '2022-09-27T19:24:00.164139',\n",
       " 'gpu_start_time': '',\n",
       " 'gpu_end_time': '',\n",
       " 'agent_name': 't1',\n",
       " 'dataset_id': 'da540de1-48a2-4a86-9c4c-99a73abae6d8',\n",
       " 'dataset_version_id': '6031678d-a9ed-4fb3-be8c-8a3c23332813',\n",
       " 'model_id': '580edfb6-c892-4a16-b1f7-89cd6a26dd24',\n",
       " 'model_version_id': '992ec5d6-b7d4-46db-89fc-22a3ddf23cb9',\n",
       " 'items': [{'id': 'b25ba689-dc3e-46e4-a380-c57bf21f614a',\n",
       "   'created_at': '2022-09-27T21:18:30.337756+02:00',\n",
       "   'updated_at': '2022-09-27T21:24:00.16825+02:00',\n",
       "   'name': 'arch',\n",
       "   'description': '',\n",
       "   'job_id': 'c9de8c8c-9113-4dd3-ab49-dbed8c7af73e',\n",
       "   'value': '[200 - 100]',\n",
       "   'default_value': '',\n",
       "   'value_type': 'text',\n",
       "   'label': 'Architecture'},\n",
       "  {'id': '67263497-fd1f-42c0-ba4d-42187467b975',\n",
       "   'created_at': '2022-09-27T21:18:30.337756+02:00',\n",
       "   'updated_at': '2022-09-27T21:24:00.16825+02:00',\n",
       "   'name': 'batch_size',\n",
       "   'description': '',\n",
       "   'job_id': 'c9de8c8c-9113-4dd3-ab49-dbed8c7af73e',\n",
       "   'value': '32',\n",
       "   'default_value': '',\n",
       "   'value_type': 'number',\n",
       "   'label': 'Batch Size'},\n",
       "  {'id': 'deffdaef-fcd1-4e55-bb14-e748c0c35bbd',\n",
       "   'created_at': '2022-09-27T21:18:30.337756+02:00',\n",
       "   'updated_at': '2022-09-27T21:24:00.16825+02:00',\n",
       "   'name': 'nb_epochs',\n",
       "   'description': '',\n",
       "   'job_id': 'c9de8c8c-9113-4dd3-ab49-dbed8c7af73e',\n",
       "   'value': '50',\n",
       "   'default_value': '',\n",
       "   'value_type': 'number',\n",
       "   'label': 'Number of epochs'}]}"
      ]
     },
     "execution_count": 54,
     "metadata": {},
     "output_type": "execute_result"
    }
   ],
   "source": [
    "# Once finished\n",
    "job"
   ]
  },
  {
   "cell_type": "code",
   "execution_count": 55,
   "id": "60babcc3",
   "metadata": {},
   "outputs": [],
   "source": [
    "# Get created model\n",
    "model_id = job[\"model_id\"]\n",
    "model_version_id = job[\"model_version_id\"]"
   ]
  },
  {
   "cell_type": "code",
   "execution_count": 56,
   "id": "17cbcb4e",
   "metadata": {},
   "outputs": [
    {
     "name": "stdout",
     "output_type": "stream",
     "text": [
      "580edfb6-c892-4a16-b1f7-89cd6a26dd24\n",
      "992ec5d6-b7d4-46db-89fc-22a3ddf23cb9\n"
     ]
    }
   ],
   "source": [
    "print(model_id)\n",
    "print(model_version_id)"
   ]
  },
  {
   "cell_type": "code",
   "execution_count": null,
   "id": "91d34ced",
   "metadata": {},
   "outputs": [],
   "source": [
    "# Predict"
   ]
  },
  {
   "cell_type": "code",
   "execution_count": null,
   "id": "55187dc7",
   "metadata": {},
   "outputs": [],
   "source": []
  },
  {
   "cell_type": "code",
   "execution_count": 57,
   "id": "396659e1",
   "metadata": {},
   "outputs": [
    {
     "data": {
      "text/plain": [
       "{'id': '992ec5d6-b7d4-46db-89fc-22a3ddf23cb9',\n",
       " 'created_at': '2022-09-27T21:24:00.042635+02:00',\n",
       " 'updated_at': '2022-09-27T21:24:00.16219+02:00',\n",
       " 'name': 'Wage classifiction training',\n",
       " 'description': '',\n",
       " 'model_id': '580edfb6-c892-4a16-b1f7-89cd6a26dd24',\n",
       " 'classes': '',\n",
       " 'accuracy': 0,\n",
       " 'user_id': '2b02eb44-8ad0-409c-9515-0405fb25d470',\n",
       " 'can_inference': True,\n",
       " 'has_logo': False,\n",
       " 'logo': '',\n",
       " 'config': '[{\"name\": \"workclass\", \"type\": \"cat\"}, {\"name\": \"education\", \"type\": \"cat\"}, {\"name\": \"marital-status\", \"type\": \"cat\"}, {\"name\": \"occupation\", \"type\": \"cat\"}, {\"name\": \"relationship\", \"type\": \"cat\"}, {\"name\": \"race\", \"type\": \"cat\"}, {\"name\": \"sex\", \"type\": \"cat\"}, {\"name\": \"native-country\", \"type\": \"cat\"}, {\"name\": \"education-num_na\", \"type\": \"cat\"}, {\"name\": \"age\", \"type\": \"cont\"}, {\"name\": \"fnlwgt\", \"type\": \"cont\"}, {\"name\": \"education-num\", \"type\": \"cont\"}, {\"name\": \"capital-gain\", \"type\": \"cont\"}, {\"name\": \"capital-loss\", \"type\": \"cont\"}, {\"name\": \"hours-per-week\", \"type\": \"cont\"}]',\n",
       " 'application_id': 'd2b25196-dcad-4203-9cbb-87deec0e4f07',\n",
       " 'version': '1.0',\n",
       " 'version_number': 1,\n",
       " 'has_ml_model': False,\n",
       " 'has_onnx_model': False,\n",
       " 'has_tflite_model': False,\n",
       " 'has_labels_file': False,\n",
       " 'dataset_id': 'da540de1-48a2-4a86-9c4c-99a73abae6d8',\n",
       " 'dataset_version_id': '6031678d-a9ed-4fb3-be8c-8a3c23332813',\n",
       " 'job_id': '',\n",
       " 'metrics': [{'id': 'f74568e9-6970-4286-bbcd-59e05058b612',\n",
       "   'created_at': '2022-09-27T21:24:00.074838+02:00',\n",
       "   'updated_at': '2022-09-27T21:24:00.074838+02:00',\n",
       "   'name': 'Accuracy',\n",
       "   'description': '',\n",
       "   'model_version_id': '992ec5d6-b7d4-46db-89fc-22a3ddf23cb9',\n",
       "   'value': 85.58105},\n",
       "  {'id': '5c7203bc-83a6-46ef-8224-c0e1057c03c1',\n",
       "   'created_at': '2022-09-27T21:24:00.074838+02:00',\n",
       "   'updated_at': '2022-09-27T21:24:00.074838+02:00',\n",
       "   'name': 'Recall',\n",
       "   'description': '',\n",
       "   'model_version_id': '992ec5d6-b7d4-46db-89fc-22a3ddf23cb9',\n",
       "   'value': 85.58105},\n",
       "  {'id': 'a09a42d8-e214-4b16-88bc-3a659069c8c7',\n",
       "   'created_at': '2022-09-27T21:24:00.074838+02:00',\n",
       "   'updated_at': '2022-09-27T21:24:00.074838+02:00',\n",
       "   'name': 'Precision',\n",
       "   'description': '',\n",
       "   'model_version_id': '992ec5d6-b7d4-46db-89fc-22a3ddf23cb9',\n",
       "   'value': 85.58105},\n",
       "  {'id': '575f0d21-10ac-40a3-8b2d-a8c939ddde03',\n",
       "   'created_at': '2022-09-27T21:24:00.074838+02:00',\n",
       "   'updated_at': '2022-09-27T21:24:00.074838+02:00',\n",
       "   'name': 'F1',\n",
       "   'description': '',\n",
       "   'model_version_id': '992ec5d6-b7d4-46db-89fc-22a3ddf23cb9',\n",
       "   'value': 85.58105}]}"
      ]
     },
     "execution_count": 57,
     "metadata": {},
     "output_type": "execute_result"
    }
   ],
   "source": [
    "model_version = cl.get_model_version(model_id, model_version_id);\n",
    "model_version"
   ]
  },
  {
   "cell_type": "code",
   "execution_count": 58,
   "id": "a0c88a6b",
   "metadata": {},
   "outputs": [],
   "source": [
    "import json\n",
    "\n",
    "config = json.loads(model_version[\"config\"])\n"
   ]
  },
  {
   "cell_type": "code",
   "execution_count": null,
   "id": "46c1583f",
   "metadata": {},
   "outputs": [],
   "source": []
  },
  {
   "cell_type": "code",
   "execution_count": 72,
   "id": "d7c00650",
   "metadata": {},
   "outputs": [
    {
     "name": "stdout",
     "output_type": "stream",
     "text": [
      "{'name': 'workclass', 'type': 'cat'}\n",
      "{'name': 'education', 'type': 'cat'}\n",
      "{'name': 'marital-status', 'type': 'cat'}\n",
      "{'name': 'occupation', 'type': 'cat'}\n",
      "{'name': 'relationship', 'type': 'cat'}\n",
      "{'name': 'race', 'type': 'cat'}\n",
      "{'name': 'sex', 'type': 'cat'}\n",
      "{'name': 'native-country', 'type': 'cat'}\n",
      "{'name': 'education-num_na', 'type': 'cat'}\n",
      "{'name': 'age', 'type': 'cont'}\n",
      "{'name': 'fnlwgt', 'type': 'cont'}\n",
      "{'name': 'education-num', 'type': 'cont'}\n",
      "{'name': 'capital-gain', 'type': 'cont'}\n",
      "{'name': 'capital-loss', 'type': 'cont'}\n",
      "{'name': 'hours-per-week', 'type': 'cont'}\n"
     ]
    }
   ],
   "source": [
    "for c in config:\n",
    "    print(c)"
   ]
  },
  {
   "cell_type": "code",
   "execution_count": 77,
   "id": "0430023c",
   "metadata": {},
   "outputs": [],
   "source": [
    "inputs = {\n",
    "    \"workclass\": \"Private\", \n",
    "    \"education\": \"Assoc-acdm\", \n",
    "    \"marital-status\": \"Married-civ-spouse\", \n",
    "    \"relationship\": 12.0,\n",
    "    \"race\": \"White\",\n",
    "    \"age\": 49.0,\n",
    "    \"fnlwgt\": 101320.0,\n",
    "    \"education-num\": 12.0,\n",
    "    \"occupation\": \"0\",\n",
    "#     \"education-num_na\": \"0\",\n",
    "    \"sex\": \"Female\",\n",
    "    \"native-country\": \"United-States\",\n",
    "    \"fnlwgt\": 101320,\n",
    "    \"capital-gain\":0,\n",
    "    \"capital-loss\": 0,\n",
    "    \"hours-per-week\": 40\n",
    "}\n"
   ]
  },
  {
   "cell_type": "code",
   "execution_count": 78,
   "id": "5ac4e546",
   "metadata": {},
   "outputs": [
    {
     "data": {
      "text/plain": [
       "'{\"workclass\": \"Private\", \"education\": \"Assoc-acdm\", \"marital-status\": \"Married-civ-spouse\", \"relationship\": 12.0, \"race\": \"White\", \"age\": 49.0, \"fnlwgt\": 101320, \"education-num\": 12.0, \"occupation\": \"0\", \"sex\": \"Female\", \"native-country\": \"United-States\", \"capital-gain\": 0, \"capital-loss\": 0, \"hours-per-week\": 40}'"
      ]
     },
     "execution_count": 78,
     "metadata": {},
     "output_type": "execute_result"
    }
   ],
   "source": [
    "json.dumps(inputs)"
   ]
  },
  {
   "cell_type": "code",
   "execution_count": 79,
   "id": "2cc5c164",
   "metadata": {},
   "outputs": [
    {
     "name": "stdout",
     "output_type": "stream",
     "text": [
      "580edfb6-c892-4a16-b1f7-89cd6a26dd24\n"
     ]
    }
   ],
   "source": [
    "print(model_id)"
   ]
  },
  {
   "cell_type": "code",
   "execution_count": 80,
   "id": "c4b27ba5",
   "metadata": {},
   "outputs": [
    {
     "data": {
      "text/plain": [
       "{'id': '75bb0335-861c-4715-976c-510471d54831',\n",
       " 'created_at': '2022-09-27T21:36:22.659106277+02:00',\n",
       " 'updated_at': '2022-09-27T21:36:22.89291321+02:00',\n",
       " 'name': '{\"workclass\": \"Private\", \"education\": \"Assoc-acdm\", \"marital-status\": \"Married-civ-spouse\", \"relationship\": 12.0, \"race\": \"White\", \"age\": 49.0, \"fnlwgt\": 101320, \"education-num\": 12.0, \"occupation\": \"0\", \"sex\": \"Female\", \"native-country\": \"United-States\", \"capital-gain\": 0, \"capital-loss\": 0, \"hours-per-week\": 40}',\n",
       " 'description': '',\n",
       " 'prediction': '<50k',\n",
       " 'confidence': 0.9017313,\n",
       " 'model_id': '580edfb6-c892-4a16-b1f7-89cd6a26dd24',\n",
       " 'model_version_id': '992ec5d6-b7d4-46db-89fc-22a3ddf23cb9',\n",
       " 'extension': '',\n",
       " 'user_id': '',\n",
       " 'error_reported': False,\n",
       " 'error': '',\n",
       " 'application_id': 'd2b25196-dcad-4203-9cbb-87deec0e4f07',\n",
       " 'inference_host': 'structured-pt-1-12-1-fa-2-7-9',\n",
       " 'inference_time': '228.278543ms',\n",
       " 'end_to_end_time': '',\n",
       " 'dataset_item_id': '',\n",
       " 'result': '',\n",
       " 'inference_items': None,\n",
       " 'hidden': False,\n",
       " 'privacy_enabled': False,\n",
       " 'config': '{}'}"
      ]
     },
     "execution_count": 80,
     "metadata": {},
     "output_type": "execute_result"
    }
   ],
   "source": [
    "cl.inference(model_id, json.dumps(inputs), input_type=\"structured\")"
   ]
  },
  {
   "cell_type": "code",
   "execution_count": null,
   "id": "717508b0",
   "metadata": {},
   "outputs": [],
   "source": [
    "# See predictions"
   ]
  },
  {
   "cell_type": "code",
   "execution_count": null,
   "id": "a73e3d53",
   "metadata": {},
   "outputs": [],
   "source": []
  },
  {
   "cell_type": "code",
   "execution_count": null,
   "id": "346e881b",
   "metadata": {},
   "outputs": [],
   "source": [
    "# Add to new version"
   ]
  }
 ],
 "metadata": {
  "kernelspec": {
   "display_name": "Python 3 (ipykernel)",
   "language": "python",
   "name": "python3"
  },
  "language_info": {
   "codemirror_mode": {
    "name": "ipython",
    "version": 3
   },
   "file_extension": ".py",
   "mimetype": "text/x-python",
   "name": "python",
   "nbconvert_exporter": "python",
   "pygments_lexer": "ipython3",
   "version": "3.7.13"
  }
 },
 "nbformat": 4,
 "nbformat_minor": 5
}
