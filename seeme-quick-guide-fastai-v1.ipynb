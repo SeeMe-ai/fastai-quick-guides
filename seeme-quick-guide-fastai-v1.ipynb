{
 "cells": [
  {
   "cell_type": "markdown",
   "metadata": {},
   "source": [
    "# Seeme Quick Guide - Fastai v1"
   ]
  },
  {
   "cell_type": "markdown",
   "metadata": {},
   "source": [
    "This is a quick guide to deploy your trained models using [SeeMe.ai](https://seeme.ai)."
   ]
  },
  {
   "cell_type": "markdown",
   "metadata": {},
   "source": [
    "In this guide, we will create, deploy and use a simple Cats and Dogs classifier. \n",
    "\n",
    "The focus is getting you up and running with deploying, using and sharing your AI models. For the ins and outs of training AI models with Fast.ai, we recommend you follow the excellent [Fast.ai courses](fast.ai)."
   ]
  },
  {
   "cell_type": "markdown",
   "metadata": {},
   "source": [
    "# 0. Disclaimer"
   ]
  },
  {
   "cell_type": "markdown",
   "metadata": {},
   "source": [
    "* SeeMe.ai is currently in development and things might break:\n",
    "    * For the beta period, you can host one model with up to 500 predictions for free;\n",
    "    * We are working on a fair and sustainable pricing (contact [iwantto@seeme.ai](mailto:iwantto@seeme.ai) for more info);\n",
    "    * We rely on your code of honor for fair use."
   ]
  },
  {
   "cell_type": "markdown",
   "metadata": {},
   "source": [
    "# 1. Setup"
   ]
  },
  {
   "cell_type": "markdown",
   "metadata": {},
   "source": [
    "## 1.1 Where to run your Jupyter Notebooks\n",
    "\n",
    "Use your preferred platfrom to run your [Jupyter Notebooks](https://jupyter.org/): \n",
    "\n",
    "* [Paperspace](https://paperspace.com)\n",
    "* [Google Colab](https://colab.research.google.com/)\n",
    "* [The official Fast.ai Docker images](https://hub.docker.com/u/fastdotai)\n",
    "* [Fast.ai Docker from SeeMe.ai](https://hub.docker.com/repository/docker/seemeai/fastai2)\n",
    "* [Azure](https://azure.microsoft.com)\n",
    "* ..."
   ]
  },
  {
   "cell_type": "code",
   "execution_count": null,
   "metadata": {},
   "outputs": [],
   "source": [
    "import torch\n",
    "print(f\"PyTorch version: {torch.__version__}\")"
   ]
  },
  {
   "cell_type": "code",
   "execution_count": null,
   "metadata": {},
   "outputs": [],
   "source": [
    "import fastai\n",
    "print(f\"Fastai version: {fastai.__version__}\")"
   ]
  },
  {
   "cell_type": "markdown",
   "metadata": {},
   "source": [
    "## 1.2 SeeMe.ai Python SDK\n",
    "\n",
    "Install the [SeeMe SDK](https://pypi.org/project/seeme/) from the command line:\n",
    "\n",
    "```bash\n",
    "$ pip install --upgrade --no-cache-dir seeme\n",
    "```\n",
    "\n",
    "or in your Notebook:"
   ]
  },
  {
   "cell_type": "code",
   "execution_count": 2,
   "metadata": {},
   "outputs": [
    {
     "name": "stdout",
     "output_type": "stream",
     "text": [
      "Requirement already up-to-date: seeme in /opt/conda/lib/python3.7/site-packages (0.9.1)\r\n",
      "Requirement already satisfied, skipping upgrade: requests>=2.18.4 in /opt/conda/lib/python3.7/site-packages (from seeme) (2.22.0)\r\n",
      "Requirement already satisfied, skipping upgrade: requests-toolbelt>=0.9.1 in /opt/conda/lib/python3.7/site-packages (from seeme) (0.9.1)\r\n",
      "Requirement already satisfied, skipping upgrade: certifi>=2017.4.17 in /opt/conda/lib/python3.7/site-packages (from requests>=2.18.4->seeme) (2019.11.28)\r\n",
      "Requirement already satisfied, skipping upgrade: chardet<3.1.0,>=3.0.2 in /opt/conda/lib/python3.7/site-packages (from requests>=2.18.4->seeme) (3.0.4)\r\n",
      "Requirement already satisfied, skipping upgrade: idna<2.9,>=2.5 in /opt/conda/lib/python3.7/site-packages (from requests>=2.18.4->seeme) (2.8)\r\n",
      "Requirement already satisfied, skipping upgrade: urllib3!=1.25.0,!=1.25.1,<1.26,>=1.21.1 in /opt/conda/lib/python3.7/site-packages (from requests>=2.18.4->seeme) (1.24.3)\r\n"
     ]
    }
   ],
   "source": [
    "# Install the SeeMe SDK from your notebook.\n",
    "!pip install --upgrade --no-cache-dir seeme"
   ]
  },
  {
   "cell_type": "markdown",
   "metadata": {},
   "source": [
    "# 2. Train a model"
   ]
  },
  {
   "cell_type": "markdown",
   "metadata": {},
   "source": [
    "## 2.1 Train our Cats vs dogs model\n",
    "\n",
    "Here we will train a basic Cats vs Dogs model, using the defaults from fastai2."
   ]
  },
  {
   "cell_type": "code",
   "execution_count": null,
   "metadata": {},
   "outputs": [],
   "source": [
    "# Import the vision modules\n",
    "from fastai.vision import *"
   ]
  },
  {
   "cell_type": "code",
   "execution_count": null,
   "metadata": {},
   "outputs": [],
   "source": [
    "# get the `catsdogs` dataset\n",
    "path = untar_data(URLs.DOGS)"
   ]
  },
  {
   "cell_type": "code",
   "execution_count": null,
   "metadata": {},
   "outputs": [],
   "source": [
    "# have a look at the folder\n",
    "path.ls()"
   ]
  },
  {
   "cell_type": "code",
   "execution_count": null,
   "metadata": {},
   "outputs": [],
   "source": [
    "# Fix the random seed\n",
    "np.random.seed(12)"
   ]
  },
  {
   "cell_type": "code",
   "execution_count": null,
   "metadata": {},
   "outputs": [],
   "source": [
    "# Set the image and batch size\n",
    "image_size = 224\n",
    "batch_size = 20"
   ]
  },
  {
   "cell_type": "code",
   "execution_count": null,
   "metadata": {},
   "outputs": [],
   "source": [
    "# Create the dataloaders\n",
    "# for more details check the fast.ai courses\n",
    "data = ImageDataBunch.from_folder(path, \n",
    "                                  ds_tfms=get_transforms(), \n",
    "                                  size=image_size, \n",
    "                                  bs=batch_size\n",
    "                                  ).normalize(imagenet_stats)"
   ]
  },
  {
   "cell_type": "code",
   "execution_count": null,
   "metadata": {},
   "outputs": [],
   "source": [
    "# Create your model\n",
    "learn =cnn_learner(data, models.resnet50, metrics=error_rate)"
   ]
  },
  {
   "cell_type": "code",
   "execution_count": null,
   "metadata": {
    "scrolled": true
   },
   "outputs": [],
   "source": [
    "# Fine tune your model\n",
    "learn.fit_one_cycle(5)"
   ]
  },
  {
   "cell_type": "markdown",
   "metadata": {},
   "source": [
    "## 2.2 Test our model locally\n",
    "\n",
    "Let's see what our model says about one of the test pictures it has never seen."
   ]
  },
  {
   "cell_type": "code",
   "execution_count": null,
   "metadata": {},
   "outputs": [],
   "source": [
    "image_location = path/\"test1/10789.jpg\""
   ]
  },
  {
   "cell_type": "code",
   "execution_count": null,
   "metadata": {},
   "outputs": [],
   "source": [
    "# Find an image to test our model with\n",
    "img = open_image(image_location)"
   ]
  },
  {
   "cell_type": "code",
   "execution_count": null,
   "metadata": {},
   "outputs": [],
   "source": [
    "# Pretty clear for us humans\n",
    "img"
   ]
  },
  {
   "cell_type": "code",
   "execution_count": null,
   "metadata": {},
   "outputs": [],
   "source": [
    "# Let's see what our model thinks\n",
    "learn.predict(img)"
   ]
  },
  {
   "cell_type": "markdown",
   "metadata": {},
   "source": [
    "# 3. Deployment - SeeMe.ai"
   ]
  },
  {
   "cell_type": "markdown",
   "metadata": {},
   "source": [
    "Once you have trained your model, it's time to get it into production."
   ]
  },
  {
   "cell_type": "markdown",
   "metadata": {},
   "source": [
    "## 3.1 Export your model"
   ]
  },
  {
   "cell_type": "code",
   "execution_count": null,
   "metadata": {},
   "outputs": [],
   "source": [
    "# Put your model in eval model\n",
    "learn.model.eval();"
   ]
  },
  {
   "cell_type": "code",
   "execution_count": null,
   "metadata": {},
   "outputs": [],
   "source": [
    "# Export your model\n",
    "learn.export()"
   ]
  },
  {
   "cell_type": "markdown",
   "metadata": {},
   "source": [
    "## 3.2 Setup SeeMe SDK: Import, Register, Login"
   ]
  },
  {
   "cell_type": "code",
   "execution_count": null,
   "metadata": {},
   "outputs": [],
   "source": [
    "# Import the SeeMe client\n",
    "from seeme import Client"
   ]
  },
  {
   "cell_type": "code",
   "execution_count": null,
   "metadata": {},
   "outputs": [],
   "source": [
    "# Create a SeeMe client\n",
    "client = Client()"
   ]
  },
  {
   "cell_type": "code",
   "execution_count": null,
   "metadata": {},
   "outputs": [],
   "source": [
    "# If you haven't already registered, follow these steps:\n",
    "my_password =  # example: \"supersecurepasswordfromonepassword\"\n",
    "my_username =  # example: \"janvdp\"\n",
    "my_email =   # example: \"jan@seeme.ai\"\n",
    "my_firstname =   # example: \"Jan\"\n",
    "my_name =  # example: \"Van de Poel\"\n",
    "\n",
    "client.register(username=my_username, email=my_email, password=my_password, firstname=my_firstname, name=my_name)"
   ]
  },
  {
   "cell_type": "code",
   "execution_count": null,
   "metadata": {},
   "outputs": [],
   "source": [
    "# Once you have registered, you can log in:\n",
    "client.login(my_username, my_password)"
   ]
  },
  {
   "cell_type": "markdown",
   "metadata": {},
   "source": [
    "## 3.3 SeeMe.ai supports different applications and versions"
   ]
  },
  {
   "cell_type": "markdown",
   "metadata": {},
   "source": [
    "With SeeMe.ai we support different types of AI applications with different frameworks and framework versions. \n",
    "To have a look at the supported applications and their capabilities, you can print all the supported applications in the cell below.\n",
    "\n",
    "We currently support different versions of Fastai and object detection, but more frameworks are coming."
   ]
  },
  {
   "cell_type": "code",
   "execution_count": null,
   "metadata": {},
   "outputs": [],
   "source": [
    "from pprint import pprint\n",
    "pprint(client.applications)"
   ]
  },
  {
   "cell_type": "code",
   "execution_count": null,
   "metadata": {},
   "outputs": [],
   "source": [
    "# SeeMe support different types of applications, with different frameworks and versions.\n",
    "\n",
    "# Get the applicationID for your framework (version).\n",
    "application_id = client.get_application_id(\n",
    "    base_framework=\"pytorch\",\n",
    "    framework=\"fastai\",\n",
    "    base_framework_version=str(torch.__version__),\n",
    "    framework_version=str(fastai.__version__),\n",
    "    application=\"image_classification\"\n",
    "  )"
   ]
  },
  {
   "cell_type": "code",
   "execution_count": null,
   "metadata": {},
   "outputs": [],
   "source": [
    "# Create model with name and description\n",
    "\n",
    "model_name = \"My first model\"\n",
    "description = \"Created to be used...\"\n",
    "classes = \"Cats and dogs\"\n",
    "\n",
    "my_model = client.create_full_model({\n",
    "    \"name\": model_name,\n",
    "    \"description\": description,\n",
    "    \"classes\": classes,\n",
    "    \"application_id\": application_id\n",
    "})"
   ]
  },
  {
   "cell_type": "markdown",
   "metadata": {},
   "source": [
    "## 3.4 Upload your model"
   ]
  },
  {
   "cell_type": "code",
   "execution_count": null,
   "metadata": {},
   "outputs": [],
   "source": [
    "# Deploy your exported model.\n",
    "client.upload_model(my_model[\"ID\"], str(path))\n",
    "\n",
    "# By default this takes the export.pkl created by learn.export(), but you can simply pass in a filename as well."
   ]
  },
  {
   "cell_type": "markdown",
   "metadata": {},
   "source": [
    "## 3.5 Add a logo"
   ]
  },
  {
   "cell_type": "code",
   "execution_count": null,
   "metadata": {},
   "outputs": [],
   "source": [
    "# Upload a logo for your model (optional)\n",
    "client.upload_logo(my_model[\"ID\"], folder=str(path/\"test1\"), filename=\"9.jpg\")"
   ]
  },
  {
   "cell_type": "markdown",
   "metadata": {},
   "source": [
    "# 4. Use your model"
   ]
  },
  {
   "cell_type": "markdown",
   "metadata": {},
   "source": [
    "Once your model is deployed, you can use it in a number of ways:\n",
    "\n",
    "- [Python SDK](https://pypi.org/project/seeme/)\n",
    "- [web app](https://app.seeme.ai)\n",
    "- [iOS - App Store](https://apps.apple.com/us/app/id1443724639)\n",
    "- [Android - Play Store](https://play.google.com/store/apps/details?id=ai.seeme)"
   ]
  },
  {
   "cell_type": "markdown",
   "metadata": {},
   "source": [
    "## 4.1 Python SDK"
   ]
  },
  {
   "cell_type": "markdown",
   "metadata": {},
   "source": [
    "You can now use the [Python SDK](https://pypi.org/project/seeme/) to make predictions from basically anywhere, provided you have:\n",
    "\n",
    "- SeeMe SDK installed\n",
    "- Login credentials\n",
    "- The ID of a deployed model\n",
    "- An image to classiy\n",
    "\n",
    "😃"
   ]
  },
  {
   "cell_type": "code",
   "execution_count": null,
   "metadata": {},
   "outputs": [],
   "source": [
    "# make sure you are logged in."
   ]
  },
  {
   "cell_type": "code",
   "execution_count": null,
   "metadata": {},
   "outputs": [],
   "source": [
    "# Here, we will use the Python SDK to classify our test image\n",
    "result = client.inference(my_model[\"ID\"], image_location)"
   ]
  },
  {
   "cell_type": "code",
   "execution_count": null,
   "metadata": {},
   "outputs": [],
   "source": [
    "# Print out the results\n",
    "print(result[\"prediction\"])\n",
    "print(result[\"confidence\"])"
   ]
  },
  {
   "cell_type": "markdown",
   "metadata": {},
   "source": [
    "Make sure to check if they match the predictions from our model in the notebook."
   ]
  },
  {
   "cell_type": "markdown",
   "metadata": {},
   "source": [
    "## 4.2 SeeMe.ai web app"
   ]
  },
  {
   "cell_type": "markdown",
   "metadata": {},
   "source": [
    "You can open the web app via [app.seeme.ai](https://app.seeme.ai)"
   ]
  },
  {
   "cell_type": "markdown",
   "metadata": {},
   "source": [
    "Log in if you need to with the credentials used to register (my_username, my_password)."
   ]
  },
  {
   "cell_type": "markdown",
   "metadata": {},
   "source": [
    "If you've followed the steps above without changing anything, this is what you will see after logging in."
   ]
  },
  {
   "cell_type": "markdown",
   "metadata": {},
   "source": [
    "Click on the model to start making predictions."
   ]
  },
  {
   "cell_type": "markdown",
   "metadata": {},
   "source": [
    "![seeme-ai-your-first-model-cats-dogs](images/seeme-ai-first-model-cats-dogs.png)"
   ]
  },
  {
   "cell_type": "markdown",
   "metadata": {},
   "source": [
    "Here is what the detail screen looks like:"
   ]
  },
  {
   "cell_type": "markdown",
   "metadata": {},
   "source": [
    "![SeeMe.ai first model detail screen](images/seeme-ai-model-detail-screen.png)"
   ]
  },
  {
   "cell_type": "markdown",
   "metadata": {},
   "source": [
    "Next:\n",
    "\n",
    "- click on `select image`\n",
    "- find an image you would like to classify\n",
    "- click on analyze\n",
    "- Look at `result` and `confidence` to see what the prediction is."
   ]
  },
  {
   "cell_type": "markdown",
   "metadata": {},
   "source": [
    "![SeeMe.ai model prediction example](images/seeme-ai-model-prediction-example.png)"
   ]
  },
  {
   "cell_type": "markdown",
   "metadata": {},
   "source": [
    "## 4.3 iOS/Android"
   ]
  },
  {
   "cell_type": "markdown",
   "metadata": {},
   "source": [
    "You can also access all models - yours, shared, and public - on our native mobile apps. You can install them from the [iOS App Store](https://apps.apple.com/us/app/id1443724639) and [Android Play Store](https://play.google.com/store/apps/details?id=ai.seeme).\n",
    "\n",
    "Once you have logged in, you see the overview of models:\n",
    "\n",
    "![SeeMe.ai mobile list of models](images/seeme-ai-mobile-list-of-models.png)\n",
    "\n",
    "On the model detail, you can take pictures with the camera or select from the gallery:\n",
    "\n",
    "![SeeMe.ai model detail](images/seeme-ai-mobile-model-detail.png)\n",
    "\n",
    "And see what your model thinks:\n",
    "\n",
    "![SeeMe.ai model prediction](images/seeme-ai-model-prediction.png)\n",
    "\n",
    "Once your model has made a prediction, you will see a green button name \"Action\". When clicking that button, you have a number of choices:\n",
    "\n",
    "* search Google for your prediction\n",
    "* search Wikipedia for your prediction\n",
    "* Report a wrong prediction\n",
    "\n",
    "![SeeMe.ai follow up action](images/seeme-ai-mobile-action-selection.png)\n",
    "\n",
    "On [iOS](https://apps.apple.com/us/app/id1443724639), we have added automatic conversion to [CoreML](https://developer.apple.com/documentation/coreml) and [ONNX](https://onnx.ai/), when you upload your *.pkl. (Note: only for Fast.ai v2 at the moment).\n",
    "\n",
    "This allows you to install and use the model on your device, even when you are offline. \n",
    "\n",
    "When the model is available to be installed, you will see the install button on the top right:\n",
    "\n",
    "![SeeMe.ai install model offline](images/seeme-ai-mobile-model-install-offline.png)\n",
    "\n",
    "Once installed, you can still switch between using the offline or online version of your model:\n",
    "\n",
    "![SeeMe.ai switch between online and offline model](images/seeme-ai-mobile-switch-online-offline.png)\n",
    "\n",
    "The screenshots above are all taken on iOS, however, on [Android](https://play.google.com/store/apps/details?id=ai.seeme) all these features work similarly, with one exception for the moment. On Android offline models are still in development."
   ]
  },
  {
   "cell_type": "markdown",
   "metadata": {},
   "source": [
    "## 4.4 Other platforms"
   ]
  },
  {
   "cell_type": "markdown",
   "metadata": {},
   "source": [
    "If there is a particular platform you would live to use to make predictions and the above options don't work for you, we would be happy to hear from you. We offer API and Docker support as well."
   ]
  },
  {
   "cell_type": "markdown",
   "metadata": {},
   "source": [
    "# 5 Share your model"
   ]
  },
  {
   "cell_type": "markdown",
   "metadata": {},
   "source": [
    "Once you have tested your model, it is time to share it with friends."
   ]
  },
  {
   "cell_type": "markdown",
   "metadata": {},
   "source": [
    "Go back to the home page, and click the `edit` icon."
   ]
  },
  {
   "cell_type": "markdown",
   "metadata": {},
   "source": [
    "![SeeMe.ai edit your model](images/seeme-ai-first-model-cats-dogs-edit.png)"
   ]
  },
  {
   "cell_type": "markdown",
   "metadata": {},
   "source": [
    "You will go to the model detail screen:"
   ]
  },
  {
   "cell_type": "markdown",
   "metadata": {},
   "source": [
    "![SeeMe.ai Model detail](images/seeme-ai-model-detail.png)"
   ]
  },
  {
   "cell_type": "markdown",
   "metadata": {},
   "source": [
    "There you can invite people by entering their email address.\n",
    "\n",
    "Once invited, they will receive an email to either register (if that email is not yet associated to an account) or to notify of your model being shared with them."
   ]
  },
  {
   "cell_type": "code",
   "execution_count": null,
   "metadata": {},
   "outputs": [],
   "source": []
  }
 ],
 "metadata": {
  "kernelspec": {
   "display_name": "Python 3",
   "language": "python",
   "name": "python3"
  },
  "language_info": {
   "codemirror_mode": {
    "name": "ipython",
    "version": 3
   },
   "file_extension": ".py",
   "mimetype": "text/x-python",
   "name": "python",
   "nbconvert_exporter": "python",
   "pygments_lexer": "ipython3",
   "version": "3.7.6"
  }
 },
 "nbformat": 4,
 "nbformat_minor": 2
}
