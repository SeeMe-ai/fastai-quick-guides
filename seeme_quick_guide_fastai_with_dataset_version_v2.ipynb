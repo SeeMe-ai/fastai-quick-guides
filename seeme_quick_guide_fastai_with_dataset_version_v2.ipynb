{
 "cells": [
  {
   "cell_type": "markdown",
   "metadata": {
    "id": "clX6MGwv8rq2"
   },
   "source": [
    "# SeeMe.ai quick guide for fast.ai with dataset download."
   ]
  },
  {
   "cell_type": "markdown",
   "metadata": {
    "id": "bVNG2OMg8rq8"
   },
   "source": [
    "# 1. Setup"
   ]
  },
  {
   "cell_type": "markdown",
   "metadata": {
    "id": "DKTHwteB8rq8"
   },
   "source": [
    "## 1.1 Where to run your Jupyter Notebooks\n",
    "\n",
    "Use your preferred platfrom to run your [Jupyter Notebooks](https://jupyter.org/): \n",
    "\n",
    "* [Paperspace](https://paperspace.com)\n",
    "* [Google Colab](https://colab.research.google.com/)\n",
    "* [The official Fast.ai Docker images](https://hub.docker.com/u/fastdotai)\n",
    "* [Fast.ai Docker from SeeMe.ai](https://hub.docker.com/repository/docker/seemeai/fastai)\n",
    "* [Azure](https://azure.microsoft.com)\n",
    "* ..."
   ]
  },
  {
   "cell_type": "code",
   "execution_count": 1,
   "metadata": {
    "id": "H0W2QEdF96r_"
   },
   "outputs": [],
   "source": [
    "%reload_ext autoreload\n",
    "%autoreload 2\n",
    "%matplotlib inline"
   ]
  },
  {
   "cell_type": "code",
   "execution_count": 2,
   "metadata": {
    "colab": {
     "base_uri": "https://localhost:8080/"
    },
    "id": "BvxMuFNO8rq9",
    "outputId": "0fca2c50-e996-4f74-837e-6fce723e99c7"
   },
   "outputs": [
    {
     "name": "stdout",
     "output_type": "stream",
     "text": [
      "PyTorch version: 1.9.0\n"
     ]
    }
   ],
   "source": [
    "import torch\n",
    "print(f\"PyTorch version: {torch.__version__}\")"
   ]
  },
  {
   "cell_type": "code",
   "execution_count": 3,
   "metadata": {
    "colab": {
     "base_uri": "https://localhost:8080/",
     "height": 1000
    },
    "id": "0c2VPv32-Dt0",
    "outputId": "a2fa41b6-25f0-4f7e-d4de-228e6c392ab1"
   },
   "outputs": [
    {
     "name": "stdout",
     "output_type": "stream",
     "text": [
      "\u001b[33mWARNING: The directory '/root/.cache/pip' or its parent directory is not owned or is not writable by the current user. The cache has been disabled. Check the permissions and owner of that directory. If executing pip with sudo, you should use sudo's -H flag.\u001b[0m\n",
      "Requirement already satisfied: fastai in /opt/conda/lib/python3.7/site-packages (2.5.2)\n",
      "Requirement already satisfied: spacy<4 in /opt/conda/lib/python3.7/site-packages (from fastai) (2.3.5)\n",
      "Requirement already satisfied: requests in /opt/conda/lib/python3.7/site-packages (from fastai) (2.24.0)\n",
      "Requirement already satisfied: pillow>6.0.0 in /opt/conda/lib/python3.7/site-packages (from fastai) (8.2.0)\n",
      "Requirement already satisfied: matplotlib in /opt/conda/lib/python3.7/site-packages (from fastai) (3.4.3)\n",
      "Requirement already satisfied: packaging in /opt/conda/lib/python3.7/site-packages (from fastai) (21.0)\n",
      "Requirement already satisfied: pip in /opt/conda/lib/python3.7/site-packages (from fastai) (21.2.4)\n",
      "Requirement already satisfied: fastdownload<2,>=0.0.5 in /opt/conda/lib/python3.7/site-packages (from fastai) (0.0.5)\n",
      "Requirement already satisfied: torchvision>=0.8.2 in /opt/conda/lib/python3.7/site-packages (from fastai) (0.10.0)\n",
      "Requirement already satisfied: fastcore<1.4,>=1.3.8 in /opt/conda/lib/python3.7/site-packages (from fastai) (1.3.26)\n",
      "Requirement already satisfied: fastprogress>=0.2.4 in /opt/conda/lib/python3.7/site-packages (from fastai) (1.0.0)\n",
      "Requirement already satisfied: pandas in /opt/conda/lib/python3.7/site-packages (from fastai) (1.3.2)\n",
      "Requirement already satisfied: scikit-learn in /opt/conda/lib/python3.7/site-packages (from fastai) (0.24.2)\n",
      "Requirement already satisfied: scipy in /opt/conda/lib/python3.7/site-packages (from fastai) (1.7.1)\n",
      "Requirement already satisfied: torch<1.10,>=1.7.0 in /opt/conda/lib/python3.7/site-packages (from fastai) (1.9.0)\n",
      "Requirement already satisfied: pyyaml in /opt/conda/lib/python3.7/site-packages (from fastai) (5.4.1)\n",
      "Requirement already satisfied: numpy in /opt/conda/lib/python3.7/site-packages (from fastprogress>=0.2.4->fastai) (1.20.2)\n",
      "Requirement already satisfied: thinc<7.5.0,>=7.4.1 in /opt/conda/lib/python3.7/site-packages (from spacy<4->fastai) (7.4.5)\n",
      "Requirement already satisfied: tqdm<5.0.0,>=4.38.0 in /opt/conda/lib/python3.7/site-packages (from spacy<4->fastai) (4.51.0)\n",
      "Requirement already satisfied: blis<0.8.0,>=0.4.0 in /opt/conda/lib/python3.7/site-packages (from spacy<4->fastai) (0.7.4)\n",
      "Requirement already satisfied: srsly<1.1.0,>=1.0.2 in /opt/conda/lib/python3.7/site-packages (from spacy<4->fastai) (1.0.5)\n",
      "Requirement already satisfied: catalogue<1.1.0,>=0.0.7 in /opt/conda/lib/python3.7/site-packages (from spacy<4->fastai) (1.0.0)\n",
      "Requirement already satisfied: plac<1.2.0,>=0.9.6 in /opt/conda/lib/python3.7/site-packages (from spacy<4->fastai) (1.1.3)\n",
      "Requirement already satisfied: wasabi<1.1.0,>=0.4.0 in /opt/conda/lib/python3.7/site-packages (from spacy<4->fastai) (0.8.2)\n",
      "Requirement already satisfied: setuptools in /opt/conda/lib/python3.7/site-packages (from spacy<4->fastai) (52.0.0.post20210125)\n",
      "Requirement already satisfied: murmurhash<1.1.0,>=0.28.0 in /opt/conda/lib/python3.7/site-packages (from spacy<4->fastai) (1.0.5)\n",
      "Requirement already satisfied: cymem<2.1.0,>=2.0.2 in /opt/conda/lib/python3.7/site-packages (from spacy<4->fastai) (2.0.5)\n",
      "Requirement already satisfied: preshed<3.1.0,>=3.0.2 in /opt/conda/lib/python3.7/site-packages (from spacy<4->fastai) (3.0.5)\n",
      "Requirement already satisfied: importlib-metadata>=0.20 in /opt/conda/lib/python3.7/site-packages (from catalogue<1.1.0,>=0.0.7->spacy<4->fastai) (4.6.4)\n",
      "Requirement already satisfied: zipp>=0.5 in /opt/conda/lib/python3.7/site-packages (from importlib-metadata>=0.20->catalogue<1.1.0,>=0.0.7->spacy<4->fastai) (3.5.0)\n",
      "Requirement already satisfied: typing-extensions>=3.6.4 in /opt/conda/lib/python3.7/site-packages (from importlib-metadata>=0.20->catalogue<1.1.0,>=0.0.7->spacy<4->fastai) (3.7.4.3)\n",
      "Requirement already satisfied: idna<3,>=2.5 in /opt/conda/lib/python3.7/site-packages (from requests->fastai) (2.10)\n",
      "Requirement already satisfied: certifi>=2017.4.17 in /opt/conda/lib/python3.7/site-packages (from requests->fastai) (2021.5.30)\n",
      "Requirement already satisfied: urllib3!=1.25.0,!=1.25.1,<1.26,>=1.21.1 in /opt/conda/lib/python3.7/site-packages (from requests->fastai) (1.25.11)\n",
      "Requirement already satisfied: chardet<4,>=3.0.2 in /opt/conda/lib/python3.7/site-packages (from requests->fastai) (3.0.4)\n",
      "Requirement already satisfied: cycler>=0.10 in /opt/conda/lib/python3.7/site-packages (from matplotlib->fastai) (0.10.0)\n",
      "Requirement already satisfied: pyparsing>=2.2.1 in /opt/conda/lib/python3.7/site-packages (from matplotlib->fastai) (2.4.7)\n",
      "Requirement already satisfied: python-dateutil>=2.7 in /opt/conda/lib/python3.7/site-packages (from matplotlib->fastai) (2.8.2)\n",
      "Requirement already satisfied: kiwisolver>=1.0.1 in /opt/conda/lib/python3.7/site-packages (from matplotlib->fastai) (1.3.1)\n",
      "Requirement already satisfied: six in /opt/conda/lib/python3.7/site-packages (from cycler>=0.10->matplotlib->fastai) (1.16.0)\n",
      "Requirement already satisfied: pytz>=2017.3 in /opt/conda/lib/python3.7/site-packages (from pandas->fastai) (2021.1)\n",
      "Requirement already satisfied: threadpoolctl>=2.0.0 in /opt/conda/lib/python3.7/site-packages (from scikit-learn->fastai) (2.2.0)\n",
      "Requirement already satisfied: joblib>=0.11 in /opt/conda/lib/python3.7/site-packages (from scikit-learn->fastai) (1.0.1)\n",
      "\u001b[33mWARNING: Running pip as the 'root' user can result in broken permissions and conflicting behaviour with the system package manager. It is recommended to use a virtual environment instead: https://pip.pypa.io/warnings/venv\u001b[0m\n",
      "\u001b[33mWARNING: You are using pip version 21.2.4; however, version 21.3 is available.\n",
      "You should consider upgrading via the '/opt/conda/bin/python -m pip install --upgrade pip' command.\u001b[0m\n"
     ]
    }
   ],
   "source": [
    "!pip install --upgrade fastai"
   ]
  },
  {
   "cell_type": "code",
   "execution_count": 4,
   "metadata": {
    "colab": {
     "base_uri": "https://localhost:8080/"
    },
    "id": "gMfZ7Bng8rrA",
    "outputId": "554709e3-1314-4d81-add8-43e7364a81f2"
   },
   "outputs": [
    {
     "name": "stdout",
     "output_type": "stream",
     "text": [
      "fastai version: 2.5.2\n"
     ]
    }
   ],
   "source": [
    "import fastai\n",
    "print(f\"fastai version: {fastai.__version__}\")"
   ]
  },
  {
   "cell_type": "markdown",
   "metadata": {
    "id": "B0hYFJWX8rrB"
   },
   "source": [
    "## 1.2 SeeMe.ai Python SDK\n",
    "\n",
    "Install the [SeeMe SDK](https://pypi.org/project/seeme/) from the command line:\n",
    "\n",
    "```bash\n",
    "$ pip install --upgrade --no-cache-dir seeme\n",
    "```\n",
    "\n",
    "or in your Notebook:"
   ]
  },
  {
   "cell_type": "code",
   "execution_count": 5,
   "metadata": {
    "colab": {
     "base_uri": "https://localhost:8080/"
    },
    "id": "G6TQfARG8rrC",
    "outputId": "d103bffc-9b04-450c-b777-8688913139ed"
   },
   "outputs": [
    {
     "name": "stdout",
     "output_type": "stream",
     "text": [
      "Requirement already satisfied: seeme in /opt/conda/lib/python3.7/site-packages (0.12.9)\n",
      "Collecting seeme\n",
      "  Downloading seeme-0.13.6-py3-none-any.whl (6.6 kB)\n",
      "Requirement already satisfied: requests>=2.18.4 in /opt/conda/lib/python3.7/site-packages (from seeme) (2.24.0)\n",
      "Requirement already satisfied: requests-toolbelt>=0.9.1 in /opt/conda/lib/python3.7/site-packages (from seeme) (0.9.1)\n",
      "Requirement already satisfied: idna<3,>=2.5 in /opt/conda/lib/python3.7/site-packages (from requests>=2.18.4->seeme) (2.10)\n",
      "Requirement already satisfied: urllib3!=1.25.0,!=1.25.1,<1.26,>=1.21.1 in /opt/conda/lib/python3.7/site-packages (from requests>=2.18.4->seeme) (1.25.11)\n",
      "Requirement already satisfied: chardet<4,>=3.0.2 in /opt/conda/lib/python3.7/site-packages (from requests>=2.18.4->seeme) (3.0.4)\n",
      "Requirement already satisfied: certifi>=2017.4.17 in /opt/conda/lib/python3.7/site-packages (from requests>=2.18.4->seeme) (2021.5.30)\n",
      "Installing collected packages: seeme\n",
      "  Attempting uninstall: seeme\n",
      "    Found existing installation: seeme 0.12.9\n",
      "    Uninstalling seeme-0.12.9:\n",
      "      Successfully uninstalled seeme-0.12.9\n",
      "Successfully installed seeme-0.13.6\n",
      "\u001b[33mWARNING: Running pip as the 'root' user can result in broken permissions and conflicting behaviour with the system package manager. It is recommended to use a virtual environment instead: https://pip.pypa.io/warnings/venv\u001b[0m\n",
      "\u001b[33mWARNING: You are using pip version 21.2.4; however, version 21.3 is available.\n",
      "You should consider upgrading via the '/opt/conda/bin/python -m pip install --upgrade pip' command.\u001b[0m\n"
     ]
    }
   ],
   "source": [
    "# Install the SeeMe SDK from your notebook.\n",
    "!pip install --upgrade --no-cache-dir seeme"
   ]
  },
  {
   "cell_type": "markdown",
   "metadata": {
    "id": "yFcK3EiY8rrC"
   },
   "source": [
    "# 2. Create a client"
   ]
  },
  {
   "cell_type": "code",
   "execution_count": 6,
   "metadata": {
    "id": "Wz5YY41B8rrD"
   },
   "outputs": [],
   "source": [
    "from seeme import Client"
   ]
  },
  {
   "cell_type": "code",
   "execution_count": 7,
   "metadata": {
    "id": "RoqAMbyw8rrD"
   },
   "outputs": [],
   "source": [
    "cl = Client(username=\"janvdp\", apikey=\"a8b4f486-87a8-47dd-beaa-596086cfc146\")"
   ]
  },
  {
   "cell_type": "code",
   "execution_count": 8,
   "metadata": {
    "id": "7aQgdo808rrE"
   },
   "outputs": [],
   "source": [
    "#cl.login(\"janvdp\", \"\")"
   ]
  },
  {
   "cell_type": "code",
   "execution_count": 9,
   "metadata": {
    "id": "Mycrqarc8rrE"
   },
   "outputs": [],
   "source": [
    "dataset_id = \"f3d3043a-9344-4365-8147-8b6f3818a95f\"\n",
    "version_id = \"b531f745-aead-48d7-a34f-f65d73518255\"\n",
    "data_folder = \"un_flags\""
   ]
  },
  {
   "cell_type": "code",
   "execution_count": 10,
   "metadata": {
    "id": "LWcsw79q8rrF"
   },
   "outputs": [],
   "source": [
    "cl.download_dataset(dataset_id, version_id, extract_to_dir=data_folder)"
   ]
  },
  {
   "cell_type": "code",
   "execution_count": 11,
   "metadata": {
    "id": "b2QH6cfC8rrD"
   },
   "outputs": [],
   "source": [
    "# Import the vision modules\n",
    "from fastai.vision.all import *"
   ]
  },
  {
   "cell_type": "code",
   "execution_count": 12,
   "metadata": {
    "id": "6ZwGsWLx8rrF"
   },
   "outputs": [],
   "source": [
    "path = Path(data_folder)"
   ]
  },
  {
   "cell_type": "code",
   "execution_count": 13,
   "metadata": {
    "colab": {
     "base_uri": "https://localhost:8080/"
    },
    "id": "0ljCtcEZ8rrF",
    "outputId": "0431d606-1160-4378-8808-e72402fdddab"
   },
   "outputs": [
    {
     "data": {
      "text/plain": [
       "(#2) [Path('un_flags/train'),Path('un_flags/valid')]"
      ]
     },
     "execution_count": 13,
     "metadata": {},
     "output_type": "execute_result"
    }
   ],
   "source": [
    "path.ls()"
   ]
  },
  {
   "cell_type": "markdown",
   "metadata": {
    "id": "a5R7bUUF8rrG"
   },
   "source": [
    "## 2.1 Train our Flags model\n",
    "\n",
    "Here we will train a basic flag model, using the defaults from fastai."
   ]
  },
  {
   "cell_type": "code",
   "execution_count": 14,
   "metadata": {
    "colab": {
     "base_uri": "https://localhost:8080/"
    },
    "id": "s8hSdauP8rrH",
    "outputId": "f780f4ae-b74a-4160-90aa-70d5dbe5b8e0"
   },
   "outputs": [
    {
     "name": "stderr",
     "output_type": "stream",
     "text": [
      "/opt/conda/lib/python3.7/site-packages/torch/_tensor.py:1023: UserWarning: torch.solve is deprecated in favor of torch.linalg.solveand will be removed in a future PyTorch release.\n",
      "torch.linalg.solve has its arguments reversed and does not return the LU factorization.\n",
      "To get the LU factorization see torch.lu, which can be used with torch.lu_solve or torch.lu_unpack.\n",
      "X = torch.solve(B, A).solution\n",
      "should be replaced with\n",
      "X = torch.linalg.solve(A, B) (Triggered internally at  /opt/conda/conda-bld/pytorch_1623448265233/work/aten/src/ATen/native/BatchLinearAlgebra.cpp:760.)\n",
      "  ret = func(*args, **kwargs)\n"
     ]
    }
   ],
   "source": [
    "# Create the dataloaders\n",
    "# for more details check the fast.ai courses\n",
    "dls = ImageDataLoaders.from_folder(path, seed=12, item_tfms=Resize(460),\n",
    "                                    batch_tfms=aug_transforms(size=224))"
   ]
  },
  {
   "cell_type": "code",
   "execution_count": 15,
   "metadata": {
    "colab": {
     "base_uri": "https://localhost:8080/",
     "height": 120
    },
    "id": "IsqN8txD8rrH",
    "outputId": "850c6e85-2418-4656-c424-a70b36e25f17"
   },
   "outputs": [
    {
     "name": "stderr",
     "output_type": "stream",
     "text": [
      "/opt/conda/lib/python3.7/site-packages/torch/nn/functional.py:718: UserWarning: Named tensors and all their associated APIs are an experimental feature and subject to change. Please do not use them for anything important until they are released as stable. (Triggered internally at  /opt/conda/conda-bld/pytorch_1623448265233/work/c10/core/TensorImpl.h:1156.)\n",
      "  return torch.max_pool2d(input, kernel_size, stride, padding, dilation, ceil_mode)\n"
     ]
    }
   ],
   "source": [
    "# Create your model\n",
    "learn =cnn_learner(\n",
    "    dls,\n",
    "    resnet50,\n",
    "    metrics=accuracy,\n",
    "    cbs=[SaveModelCallback(monitor=\"accuracy\", fname=\"best_flags\")]\n",
    ")"
   ]
  },
  {
   "cell_type": "code",
   "execution_count": 16,
   "metadata": {
    "colab": {
     "base_uri": "https://localhost:8080/",
     "height": 173
    },
    "id": "HLFsOnGv8rrH",
    "outputId": "fa073247-930b-4b7a-8b14-7d719cfa70fb",
    "scrolled": true
   },
   "outputs": [
    {
     "data": {
      "text/html": [
       "<table border=\"1\" class=\"dataframe\">\n",
       "  <thead>\n",
       "    <tr style=\"text-align: left;\">\n",
       "      <th>epoch</th>\n",
       "      <th>train_loss</th>\n",
       "      <th>valid_loss</th>\n",
       "      <th>accuracy</th>\n",
       "      <th>time</th>\n",
       "    </tr>\n",
       "  </thead>\n",
       "  <tbody>\n",
       "    <tr>\n",
       "      <td>0</td>\n",
       "      <td>2.385049</td>\n",
       "      <td>0.926311</td>\n",
       "      <td>0.788321</td>\n",
       "      <td>01:10</td>\n",
       "    </tr>\n",
       "    <tr>\n",
       "      <td>1</td>\n",
       "      <td>1.128045</td>\n",
       "      <td>0.580653</td>\n",
       "      <td>0.874348</td>\n",
       "      <td>01:09</td>\n",
       "    </tr>\n",
       "  </tbody>\n",
       "</table>"
      ],
      "text/plain": [
       "<IPython.core.display.HTML object>"
      ]
     },
     "metadata": {},
     "output_type": "display_data"
    },
    {
     "name": "stdout",
     "output_type": "stream",
     "text": [
      "Better model found at epoch 0 with accuracy value: 0.7883211970329285.\n",
      "Better model found at epoch 1 with accuracy value: 0.8743482828140259.\n"
     ]
    }
   ],
   "source": [
    "# Fine tune your model\n",
    "learn.fit_one_cycle(2)"
   ]
  },
  {
   "cell_type": "markdown",
   "metadata": {
    "id": "ZNzoHUFU8rrK"
   },
   "source": [
    "# 3. Deployment - SeeMe.ai"
   ]
  },
  {
   "cell_type": "markdown",
   "metadata": {
    "id": "s-voPe6I8rrK"
   },
   "source": [
    "Once you have trained your model, it's time to get it into production."
   ]
  },
  {
   "cell_type": "markdown",
   "metadata": {
    "id": "1od5WLLC8rrK"
   },
   "source": [
    "## 3.1 Export your model"
   ]
  },
  {
   "cell_type": "code",
   "execution_count": null,
   "metadata": {
    "id": "hzJFf9-28rrL"
   },
   "outputs": [],
   "source": [
    "# Put your model in eval model\n",
    "learn.model.eval();"
   ]
  },
  {
   "cell_type": "code",
   "execution_count": null,
   "metadata": {
    "id": "SDLdwJeH8rrL"
   },
   "outputs": [],
   "source": [
    "# Export your model\n",
    "learn.export()"
   ]
  },
  {
   "cell_type": "code",
   "execution_count": 20,
   "metadata": {},
   "outputs": [],
   "source": [
    "flag_model = cl.get_model('94f0fb9b-c93d-4078-863a-415ddc154cb6')"
   ]
  },
  {
   "cell_type": "code",
   "execution_count": 19,
   "metadata": {},
   "outputs": [
    {
     "data": {
      "text/plain": [
       "[{'id': '94f0fb9b-c93d-4078-863a-415ddc154cb6',\n",
       "  'created_at': '2020-05-01T11:40:51.49792Z',\n",
       "  'update_at': '2021-10-14T11:39:08.111272Z',\n",
       "  'deleted_at': None,\n",
       "  'name': 'Flags of the world',\n",
       "  'description': 'UN countries flag classification. Detect all the flags in the world and get more details.',\n",
       "  'active_version_id': '0b7c2371-09b1-481d-9598-62d0acb8c2e1',\n",
       "  'classes': 'Flags of the world',\n",
       "  'count': 0,\n",
       "  'precision': 0,\n",
       "  'recall': 0,\n",
       "  'accuracy': 0,\n",
       "  'user_id': 'd7159432-f218-44ac-aebe-e5d661d62862',\n",
       "  'can_inference': True,\n",
       "  'kind': 'image_classification',\n",
       "  'has_logo': True,\n",
       "  'logo': '94f0fb9b-c93d-4078-863a-415ddc154cb6.jpg',\n",
       "  'public': True,\n",
       "  'config': '',\n",
       "  'application_id': 'feb412c1-521e-4c45-aa0d-899eec4ff4bc',\n",
       "  'has_ml_model': True,\n",
       "  'has_onnx_model': True,\n",
       "  'has_tflite_model': True,\n",
       "  'has_labels_file': True,\n",
       "  'shared_with_me': False,\n",
       "  'auto_convert': True,\n",
       "  'privacy_enabled': False}]"
      ]
     },
     "execution_count": 19,
     "metadata": {},
     "output_type": "execute_result"
    }
   ],
   "source": [
    "# models = cl.get_models()\n",
    "# flag_model = [ model for model in models if \"Flags\" in model[\"name\"]]\n",
    "# flag_model"
   ]
  },
  {
   "cell_type": "code",
   "execution_count": 26,
   "metadata": {},
   "outputs": [],
   "source": [
    "# Get the application_id for your framework (version).\n",
    "application_id = cl.get_application_id(\n",
    "    base_framework=\"pytorch\",\n",
    "    framework=\"fastai\",\n",
    "    base_framework_version=str(torch.__version__),\n",
    "    framework_version=str(fastai.__version__),\n",
    "    application=\"image_classification\"\n",
    ")"
   ]
  },
  {
   "cell_type": "code",
   "execution_count": 27,
   "metadata": {
    "id": "vURTM41O8rrL"
   },
   "outputs": [],
   "source": [
    "new_version = {\n",
    "    \"name\": \"Flags demo from SDK\",\n",
    "    \"application_id\": application_id,\n",
    "    \"dataset_version_id\":dataset_id\n",
    "}"
   ]
  },
  {
   "cell_type": "code",
   "execution_count": 29,
   "metadata": {
    "id": "-3-uoOxD8rrL"
   },
   "outputs": [],
   "source": [
    "flag_demo_version = cl.create_model_version(flag_model['id'], new_version)"
   ]
  },
  {
   "cell_type": "code",
   "execution_count": 30,
   "metadata": {
    "id": "9s5T2ujj8rrM",
    "outputId": "4afb1d6a-a7f8-4aac-9d4f-947fd92bc83e"
   },
   "outputs": [
    {
     "data": {
      "text/plain": [
       "{'id': 'c8fcaf1e-9214-4ca4-91f2-77e92697fa58',\n",
       " 'created_at': '2021-10-14T18:02:21.680347045Z',\n",
       " 'update_at': '2021-10-14T18:02:21.680347045Z',\n",
       " 'deleted_at': None,\n",
       " 'name': 'Flags demo from SDK',\n",
       " 'description': '',\n",
       " 'model_id': '94f0fb9b-c93d-4078-863a-415ddc154cb6',\n",
       " 'classes': '',\n",
       " 'count': 0,\n",
       " 'precision': 0,\n",
       " 'recall': 0,\n",
       " 'accuracy': 0,\n",
       " 'user_id': 'd7159432-f218-44ac-aebe-e5d661d62862',\n",
       " 'can_inference': False,\n",
       " 'has_logo': False,\n",
       " 'logo': '',\n",
       " 'public': False,\n",
       " 'config': '',\n",
       " 'application_id': '9933abf0-f31d-4a06-9433-aab0d2ca5d26',\n",
       " 'version': '',\n",
       " 'version_number': 9,\n",
       " 'has_ml_model': False,\n",
       " 'has_onnx_model': False,\n",
       " 'has_tflite_model': False,\n",
       " 'has_labels_file': False,\n",
       " 'dataset_version_id': 'f3d3043a-9344-4365-8147-8b6f3818a95f',\n",
       " 'training_request_id': ''}"
      ]
     },
     "execution_count": 30,
     "metadata": {},
     "output_type": "execute_result"
    }
   ],
   "source": [
    "flag_demo_version"
   ]
  },
  {
   "cell_type": "code",
   "execution_count": 31,
   "metadata": {
    "id": "8HInp1pi8rrM",
    "outputId": "8017fdec-dab1-4806-a7ae-0d9ebcff5c5d"
   },
   "outputs": [
    {
     "data": {
      "text/plain": [
       "{'id': 'c8fcaf1e-9214-4ca4-91f2-77e92697fa58',\n",
       " 'created_at': '2021-10-14T18:02:21.680347Z',\n",
       " 'update_at': '2021-10-14T18:03:39.152003936Z',\n",
       " 'deleted_at': None,\n",
       " 'name': 'Flags demo from SDK',\n",
       " 'description': '',\n",
       " 'model_id': '94f0fb9b-c93d-4078-863a-415ddc154cb6',\n",
       " 'classes': '',\n",
       " 'count': 0,\n",
       " 'precision': 0,\n",
       " 'recall': 0,\n",
       " 'accuracy': 0,\n",
       " 'user_id': 'd7159432-f218-44ac-aebe-e5d661d62862',\n",
       " 'can_inference': True,\n",
       " 'has_logo': False,\n",
       " 'logo': '',\n",
       " 'public': False,\n",
       " 'config': '',\n",
       " 'application_id': '9933abf0-f31d-4a06-9433-aab0d2ca5d26',\n",
       " 'version': '',\n",
       " 'version_number': 9,\n",
       " 'has_ml_model': True,\n",
       " 'has_onnx_model': True,\n",
       " 'has_tflite_model': True,\n",
       " 'has_labels_file': True,\n",
       " 'dataset_version_id': 'f3d3043a-9344-4365-8147-8b6f3818a95f',\n",
       " 'training_request_id': ''}"
      ]
     },
     "execution_count": 31,
     "metadata": {},
     "output_type": "execute_result"
    }
   ],
   "source": [
    "cl.upload_model_version(flag_demo_version)"
   ]
  },
  {
   "cell_type": "code",
   "execution_count": 24,
   "metadata": {},
   "outputs": [
    {
     "name": "stdout",
     "output_type": "stream",
     "text": [
      "58f29d19-b0bc-43bc-af47-f5a82c677f59.names\r\n",
      "58f29d19-b0bc-43bc-af47-f5a82c677f59.onnx\r\n",
      "README.md\r\n",
      "bus-car-person.jpg\r\n",
      "\u001b[0m\u001b[01;34mdata\u001b[0m/\r\n",
      "\u001b[01;34mdata2\u001b[0m/\r\n",
      "\u001b[01;34mdogs_download\u001b[0m/\r\n",
      "flag1.jpeg\r\n",
      "flag2.png\r\n",
      "flag3.jpg\r\n",
      "\u001b[01;34mimages\u001b[0m/\r\n",
      "\u001b[01;34mland_SAT_download\u001b[0m/\r\n",
      "object-detection-edge.ipynb\r\n",
      "seeme-quick-guide-fastai-v1.ipynb\r\n",
      "seeme-quick-guide-fastai-v2-data.ipynb\r\n",
      "seeme-quick-guide-fastai-v2.ipynb\r\n",
      "seeme-quick-guide-fastai-with-dataset-version-Copy1.ipynb\r\n",
      "seeme-quick-guide-fastai-with-dataset-version.ipynb\r\n",
      "seeme_quick_guide_fastai_with_dataset_version_v2.ipynb\r\n",
      "\u001b[01;34mun_flags\u001b[0m/\r\n",
      "\u001b[01;34mv4_dogs\u001b[0m/\r\n"
     ]
    }
   ],
   "source": [
    "ls"
   ]
  },
  {
   "cell_type": "code",
   "execution_count": 32,
   "metadata": {},
   "outputs": [],
   "source": [
    "image_location = \"flag1.jpeg\""
   ]
  },
  {
   "cell_type": "code",
   "execution_count": 35,
   "metadata": {
    "id": "X0vNKMyc8rrP"
   },
   "outputs": [],
   "source": [
    "# Here, we will use the Python SDK to classify our test image\n",
    "result = cl.version_inference(flag_demo_version, image_location)"
   ]
  },
  {
   "cell_type": "code",
   "execution_count": 36,
   "metadata": {
    "id": "DtUNzIeE8rrP"
   },
   "outputs": [
    {
     "name": "stdout",
     "output_type": "stream",
     "text": [
      "France\n",
      "0.9957467\n"
     ]
    }
   ],
   "source": [
    "# Print out the results\n",
    "print(result[\"prediction\"])\n",
    "print(result[\"confidence\"])"
   ]
  },
  {
   "cell_type": "markdown",
   "metadata": {
    "id": "6h9b6gfh8rrP"
   },
   "source": [
    "Make sure to check if they match the predictions from our model in the notebook."
   ]
  }
 ],
 "metadata": {
  "colab": {
   "name": "seeme-quick-guide-fastai-with-dataset-version.ipynb",
   "provenance": []
  },
  "kernelspec": {
   "display_name": "Python 3 (ipykernel)",
   "language": "python",
   "name": "python3"
  },
  "language_info": {
   "codemirror_mode": {
    "name": "ipython",
    "version": 3
   },
   "file_extension": ".py",
   "mimetype": "text/x-python",
   "name": "python",
   "nbconvert_exporter": "python",
   "pygments_lexer": "ipython3",
   "version": "3.7.10"
  }
 },
 "nbformat": 4,
 "nbformat_minor": 1
}
