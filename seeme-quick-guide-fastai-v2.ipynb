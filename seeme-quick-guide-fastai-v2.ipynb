{
 "cells": [
  {
   "cell_type": "markdown",
   "metadata": {},
   "source": [
    "# Seeme Quick Guide - Fastai v2"
   ]
  },
  {
   "cell_type": "markdown",
   "metadata": {},
   "source": [
    "This is a quick guide to deploy your trained models using [SeeMe.ai](https://seeme.ai)."
   ]
  },
  {
   "cell_type": "markdown",
   "metadata": {},
   "source": [
    "In this guide, we will create, deploy and use a simple Cats and Dogs classifier. \n",
    "\n",
    "The focus is getting you up and running with deploying, using and sharing your AI models. For the ins and outs of training AI models with Fast.ai, we recommend you follow the excellent [Fast.ai courses](fast.ai)."
   ]
  },
  {
   "cell_type": "markdown",
   "metadata": {},
   "source": [
    "# 0. Disclaimer"
   ]
  },
  {
   "cell_type": "markdown",
   "metadata": {},
   "source": [
    "* Fastai v2 is currently in development and things might break.\n",
    "* We will try our best to support it throughout its development to a stable version.\n",
    "* SeeMe.ai is currently in development and things might break:\n",
    "    * For the fastai v2 beta period, you can host one model with up to 500 predictions for free;\n",
    "    * We are working on a fair and sustainable pricing (contact [iwantto@seeme.ai](mailto:iwantto@seeme.ai) for more info);\n",
    "    * We rely on your code of honor for fair use."
   ]
  },
  {
   "cell_type": "markdown",
   "metadata": {},
   "source": [
    "# 0. Setup"
   ]
  },
  {
   "cell_type": "markdown",
   "metadata": {},
   "source": [
    "1. Use your preferred platfrom to run your [Jupyter Notebooks](https://jupyter.org/): \n",
    "\n",
    "    * [Paperspace](https://paperspace.com)\n",
    "    * [Google Colab](https://colab.research.google.com/)\n",
    "    * [Docker](https://hub.docker.com/r/zerotosingularity/fastai2)\n",
    "    * [Azure](https://azure.microsoft.com)\n",
    "    * ..."
   ]
  },
  {
   "cell_type": "code",
   "execution_count": null,
   "metadata": {},
   "outputs": [],
   "source": [
    "# See if you have fastai v2 installed:\n",
    "import fastai2\n",
    "\n",
    "# this version should correspond to the one on: https://pypi.org/project/fastai2/\n",
    "print(fastai2.__version__)"
   ]
  },
  {
   "cell_type": "markdown",
   "metadata": {},
   "source": [
    "2. Install the [SeeMe SDK](https://pypi.org/project/seeme/) from the command line:\n",
    "\n",
    "```bash\n",
    "$ pip install seeme\n",
    "```\n",
    "\n",
    "or in your Notebook:"
   ]
  },
  {
   "cell_type": "code",
   "execution_count": null,
   "metadata": {},
   "outputs": [],
   "source": [
    "# Install the SeeMe SDK from your notebook.\n",
    "!pip install seeme"
   ]
  },
  {
   "cell_type": "markdown",
   "metadata": {},
   "source": [
    "# 1. Train a model"
   ]
  },
  {
   "cell_type": "markdown",
   "metadata": {},
   "source": [
    "Here we will train a basic Cats vs Dogs model, using the defaults from fastai."
   ]
  },
  {
   "cell_type": "code",
   "execution_count": null,
   "metadata": {},
   "outputs": [],
   "source": [
    "# Import the vision modules\n",
    "from fastai2.vision.all import *"
   ]
  },
  {
   "cell_type": "code",
   "execution_count": null,
   "metadata": {},
   "outputs": [],
   "source": [
    "# get the `catsdogs` dataset\n",
    "path = untar_data(URLs.DOGS)"
   ]
  },
  {
   "cell_type": "code",
   "execution_count": null,
   "metadata": {},
   "outputs": [],
   "source": [
    "# have a look at the folder\n",
    "path.ls()"
   ]
  },
  {
   "cell_type": "code",
   "execution_count": null,
   "metadata": {},
   "outputs": [],
   "source": [
    "# Create the dataloaders\n",
    "# for more details check the fast.ai courses\n",
    "dls = ImageDataLoaders.from_folder(path, seed=12, item_tfms=Resize(460),\n",
    "                                    batch_tfms=aug_transforms(size=224))"
   ]
  },
  {
   "cell_type": "code",
   "execution_count": null,
   "metadata": {},
   "outputs": [],
   "source": [
    "# Create your model\n",
    "learn =cnn_learner(dls, resnet50, metrics=error_rate)"
   ]
  },
  {
   "cell_type": "code",
   "execution_count": null,
   "metadata": {
    "scrolled": true
   },
   "outputs": [],
   "source": [
    "# Fine tune your model\n",
    "learn.fine_tune(5)"
   ]
  },
  {
   "cell_type": "code",
   "execution_count": null,
   "metadata": {},
   "outputs": [],
   "source": [
    "image_location = path/\"test1/10789.jpg\""
   ]
  },
  {
   "cell_type": "code",
   "execution_count": null,
   "metadata": {},
   "outputs": [],
   "source": [
    "# Find an image to test our model with\n",
    "img = PILImage.create(image_location)"
   ]
  },
  {
   "cell_type": "code",
   "execution_count": null,
   "metadata": {},
   "outputs": [],
   "source": [
    "# Pretty clear for us humans\n",
    "img"
   ]
  },
  {
   "cell_type": "code",
   "execution_count": null,
   "metadata": {},
   "outputs": [],
   "source": [
    "# Let's see what our model thinks\n",
    "learn.predict(img)"
   ]
  },
  {
   "cell_type": "markdown",
   "metadata": {},
   "source": [
    "# 2. Deployment - SeeMe.ai"
   ]
  },
  {
   "cell_type": "markdown",
   "metadata": {},
   "source": [
    "Once you have trained your model, it's time to get it into production."
   ]
  },
  {
   "cell_type": "code",
   "execution_count": null,
   "metadata": {},
   "outputs": [],
   "source": [
    "# Export your model\n",
    "learn.export()"
   ]
  },
  {
   "cell_type": "code",
   "execution_count": null,
   "metadata": {},
   "outputs": [],
   "source": [
    "# Import the SeeMe client\n",
    "from seeme import Client"
   ]
  },
  {
   "cell_type": "code",
   "execution_count": null,
   "metadata": {},
   "outputs": [],
   "source": [
    "# Create a SeeMe client\n",
    "client = Client()"
   ]
  },
  {
   "cell_type": "code",
   "execution_count": null,
   "metadata": {},
   "outputs": [],
   "source": [
    "# If you haven't already registered, follow these steps:\n",
    "my_password =  # example: \"supersecurepasswordfromonepassword\"\n",
    "my_username =  # example: \"janvdp\"\n",
    "my_email =   # example: \"jan@seeme.ai\"\n",
    "my_firstname =   # example: \"Jan\"\n",
    "my_name =  # example: \"Van de Poel\"\n",
    "\n",
    "client.register(username=my_username, email=my_email, password=my_password, firstname=my_firstname, name=my_name)"
   ]
  },
  {
   "cell_type": "code",
   "execution_count": null,
   "metadata": {},
   "outputs": [],
   "source": [
    "# Once you have registered, you can log in:\n",
    "client.login(my_username, my_password)"
   ]
  },
  {
   "cell_type": "code",
   "execution_count": null,
   "metadata": {},
   "outputs": [],
   "source": [
    "# Create model with name and description\n",
    "\n",
    "model_name = \"My first model\"\n",
    "description = \"Created to be used...\"\n",
    "classes = \"Cats and dogs\"\n",
    "\n",
    "my_model = client.create_full_model({\n",
    "    \"name\": model_name,\n",
    "    \"description\": description,\n",
    "    \"classes\": classes,\n",
    "    \"framework\": \"fastai\",\n",
    "    \"version\": \"2\"\n",
    "})"
   ]
  },
  {
   "cell_type": "code",
   "execution_count": null,
   "metadata": {},
   "outputs": [],
   "source": [
    "# Deploy your exported model.\n",
    "client.upload_model(my_model[\"ID\"], str(path))\n",
    "\n",
    "# By default this takes the export.pkl created by learn.export(), but you can simply pass in a filename as well."
   ]
  },
  {
   "cell_type": "code",
   "execution_count": null,
   "metadata": {},
   "outputs": [],
   "source": [
    "# Upload a logo for your model (optional)\n",
    "client.upload_logo(my_model[\"ID\"], folder=str(path/\"test1\"), filename=\"1622.jpg\")"
   ]
  },
  {
   "cell_type": "markdown",
   "metadata": {},
   "source": [
    "# 3. Use your model"
   ]
  },
  {
   "cell_type": "markdown",
   "metadata": {},
   "source": [
    "Once your model is deployed, you can use it in a number of ways:\n",
    "\n",
    "- Python SDK (see below)\n",
    "- [SeeMe web app](https://app.seeme.ai)\n",
    "- iOS app (Testflight invite)\n",
    "- Android (wip)"
   ]
  },
  {
   "cell_type": "markdown",
   "metadata": {},
   "source": [
    "## 3.1 Python SDK"
   ]
  },
  {
   "cell_type": "markdown",
   "metadata": {},
   "source": [
    "Just like you can make predictions on the model itself, you can now use the SeeMe Python SDK to make predictions from basically anywhere, provided you have:\n",
    "\n",
    "- SeeMe SDK installed\n",
    "- Login credentials\n",
    "- The ID of a deployed model\n",
    "- An image to classiy\n",
    "\n",
    "😃\n"
   ]
  },
  {
   "cell_type": "code",
   "execution_count": null,
   "metadata": {},
   "outputs": [],
   "source": [
    "# Here, we will use the Python SDK to classify our test image\n",
    "result = client.inference(my_model[\"ID\"], image_location)"
   ]
  },
  {
   "cell_type": "code",
   "execution_count": null,
   "metadata": {},
   "outputs": [],
   "source": [
    "# Print out the results\n",
    "print(result[\"prediction\"])\n",
    "print(result[\"confidence\"])"
   ]
  },
  {
   "cell_type": "markdown",
   "metadata": {},
   "source": [
    "Make sure to check if they match the predictions from our model in the notebook."
   ]
  },
  {
   "cell_type": "markdown",
   "metadata": {},
   "source": [
    "## 3.2 SeeMe.ai web app"
   ]
  },
  {
   "cell_type": "markdown",
   "metadata": {},
   "source": [
    "You can open the web app via [app.seeme.ai](https://app.seeme.ai)"
   ]
  },
  {
   "cell_type": "markdown",
   "metadata": {},
   "source": [
    "Log in if you need to with the credentials used to register (my_username, my_password)."
   ]
  },
  {
   "cell_type": "markdown",
   "metadata": {},
   "source": [
    "If you've followed the steps above without changing anything, this is what you will see after logging in."
   ]
  },
  {
   "cell_type": "markdown",
   "metadata": {},
   "source": [
    "Click on the model to start making predictions."
   ]
  },
  {
   "cell_type": "markdown",
   "metadata": {},
   "source": [
    "![seeme-ai-your-first-model-cats-dogs](images/seeme-ai-first-model-cats-dogs.png)"
   ]
  },
  {
   "cell_type": "markdown",
   "metadata": {},
   "source": [
    "Here is what the detail screen looks like:"
   ]
  },
  {
   "cell_type": "markdown",
   "metadata": {},
   "source": [
    "![SeeMe.ai first model detail screen](images/seeme-ai-model-detail-screen.png)"
   ]
  },
  {
   "cell_type": "markdown",
   "metadata": {},
   "source": [
    "Next:\n",
    "\n",
    "- click on `select image`\n",
    "- find an image you would like to classify\n",
    "- click on analyze\n",
    "- Look at `result` and `confidence` to see what the prediction is."
   ]
  },
  {
   "cell_type": "markdown",
   "metadata": {},
   "source": [
    "# 3.3 Share your model"
   ]
  },
  {
   "cell_type": "markdown",
   "metadata": {},
   "source": [
    "Once you have tested your model, it is time to share it with friends."
   ]
  },
  {
   "cell_type": "markdown",
   "metadata": {},
   "source": [
    "Go back to the home page, and click the `edit` icon."
   ]
  },
  {
   "cell_type": "markdown",
   "metadata": {},
   "source": [
    "![SeeMe.ai edit your model](images/seeme-ai-first-model-cats-dogs-edit.png)"
   ]
  },
  {
   "cell_type": "markdown",
   "metadata": {},
   "source": [
    "You will go to the model detail screen:"
   ]
  },
  {
   "cell_type": "markdown",
   "metadata": {},
   "source": [
    "![SeeMe.ai Model detail](images/seeme-ai-model-detail.png)"
   ]
  },
  {
   "cell_type": "markdown",
   "metadata": {},
   "source": [
    "There you can invite people by entering their email address.\n",
    "\n",
    "Once invited, they will receive an email to either register (if that email is not yet associated to an account) or to notify of your model being shared with them."
   ]
  },
  {
   "cell_type": "markdown",
   "metadata": {},
   "source": [
    "# 3.4 iOS/Android"
   ]
  },
  {
   "cell_type": "markdown",
   "metadata": {},
   "source": [
    "We are currently also developing the iOS and Android apps. \n",
    "\n",
    "The iOS is currently being tested via Apple Testflight. If you would like an invite, you can contact us via [guides@seeme.ai](mailto:guides@seeme.ai).\n"
   ]
  },
  {
   "cell_type": "markdown",
   "metadata": {},
   "source": [
    "# 3.5 Other platforms"
   ]
  },
  {
   "cell_type": "markdown",
   "metadata": {},
   "source": [
    "If there is a particular platform you would live to use to make predictions and the above options don't work for you, we would be happy to hear from you. We offer API and Docker support as well."
   ]
  },
  {
   "cell_type": "code",
   "execution_count": null,
   "metadata": {},
   "outputs": [],
   "source": []
  }
 ],
 "metadata": {
  "kernelspec": {
   "display_name": "Python 3",
   "language": "python",
   "name": "python3"
  },
  "language_info": {
   "codemirror_mode": {
    "name": "ipython",
    "version": 3
   },
   "file_extension": ".py",
   "mimetype": "text/x-python",
   "name": "python",
   "nbconvert_exporter": "python",
   "pygments_lexer": "ipython3",
   "version": "3.7.3"
  }
 },
 "nbformat": 4,
 "nbformat_minor": 2
}
