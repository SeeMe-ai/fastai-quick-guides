{
 "cells": [
  {
   "cell_type": "markdown",
   "metadata": {},
   "source": [
    "# Seeme Quick Guide - Fastai"
   ]
  },
  {
   "cell_type": "markdown",
   "metadata": {},
   "source": [
    "This is a quick guide to deploy, use and share your trained [fast.ai](fast.ai) vision models using [SeeMe.ai](https://seeme.ai)."
   ]
  },
  {
   "cell_type": "markdown",
   "metadata": {},
   "source": [
    "In this guide, we will create, deploy and use a simple Cats and Dogs classifier. \n",
    "\n",
    "The focus is getting you up and running with deploying, using and sharing your AI models."
   ]
  },
  {
   "cell_type": "markdown",
   "metadata": {},
   "source": [
    "# 0. Disclaimer"
   ]
  },
  {
   "cell_type": "markdown",
   "metadata": {},
   "source": [
    "* SeeMe.ai is currently in development:\n",
    "    * During the beta period, you can host one model with up to 1000 monthly predictions for free;\n",
    "    * We are working on a fair and sustainable pricing (contact [iwantto@seeme.ai](mailto:iwantto@seeme.ai) for more info);\n",
    "    * We rely on your code of honor for fair use."
   ]
  },
  {
   "cell_type": "markdown",
   "metadata": {},
   "source": [
    "# 1. Setup"
   ]
  },
  {
   "cell_type": "markdown",
   "metadata": {},
   "source": [
    "## 1.1 Where to run your Jupyter Notebooks\n",
    "\n",
    "Use your preferred platfrom to run your [Jupyter Notebooks](https://jupyter.org/): \n",
    "\n",
    "* [Paperspace](https://paperspace.com)\n",
    "* [Google Colab](https://colab.research.google.com/)\n",
    "* [The official Fast.ai Docker images](https://hub.docker.com/u/fastdotai)\n",
    "* [Fast.ai Docker from SeeMe.ai](https://hub.docker.com/repository/docker/seemeai/fastai)\n",
    "* [Azure](https://azure.microsoft.com)\n",
    "* ..."
   ]
  },
  {
   "cell_type": "code",
   "execution_count": 1,
   "metadata": {},
   "outputs": [
    {
     "name": "stdout",
     "output_type": "stream",
     "text": [
      "PyTorch version: 1.10.0\n"
     ]
    }
   ],
   "source": [
    "import torch\n",
    "print(f\"PyTorch version: {torch.__version__}\")"
   ]
  },
  {
   "cell_type": "code",
   "execution_count": 2,
   "metadata": {},
   "outputs": [],
   "source": [
    "# Optionally, instal the latest version of fasti\n",
    "!pip install --upgrade -qqq fastai"
   ]
  },
  {
   "cell_type": "code",
   "execution_count": 3,
   "metadata": {},
   "outputs": [
    {
     "name": "stdout",
     "output_type": "stream",
     "text": [
      "fastai version: 2.6.0\n"
     ]
    }
   ],
   "source": [
    "import fastai\n",
    "print(f\"fastai version: {fastai.__version__}\")"
   ]
  },
  {
   "cell_type": "markdown",
   "metadata": {},
   "source": [
    "## 1.2 SeeMe.ai Python SDK\n",
    "\n",
    "Install the [SeeMe SDK](https://pypi.org/project/seeme/) from the command line:\n",
    "\n",
    "```bash\n",
    "$ pip install --upgrade --no-cache-dir seeme\n",
    "```\n",
    "\n",
    "or in your Notebook:"
   ]
  },
  {
   "cell_type": "code",
   "execution_count": 4,
   "metadata": {},
   "outputs": [],
   "source": [
    "# Install the SeeMe SDK from your notebook.\n",
    "!pip install -qqq --upgrade --no-cache-dir seeme"
   ]
  },
  {
   "cell_type": "markdown",
   "metadata": {},
   "source": [
    "# 2. Train a model"
   ]
  },
  {
   "cell_type": "markdown",
   "metadata": {},
   "source": [
    "## 2.1 Train our Cats vs dogs model\n",
    "\n",
    "Here we will train a basic Cats vs Dogs model, using the defaults from fastai."
   ]
  },
  {
   "cell_type": "code",
   "execution_count": 5,
   "metadata": {},
   "outputs": [],
   "source": [
    "# Import the vision modules\n",
    "from fastai.vision.all import *"
   ]
  },
  {
   "cell_type": "code",
   "execution_count": 6,
   "metadata": {},
   "outputs": [],
   "source": [
    "torch.cuda.set_device(0)"
   ]
  },
  {
   "cell_type": "code",
   "execution_count": 7,
   "metadata": {},
   "outputs": [],
   "source": [
    "# get the `catsdogs` dataset\n",
    "path = untar_data(URLs.DOGS)"
   ]
  },
  {
   "cell_type": "code",
   "execution_count": 8,
   "metadata": {},
   "outputs": [
    {
     "data": {
      "text/plain": [
       "(#5) [Path('/root/.fastai/data/dogscats/train'),Path('/root/.fastai/data/dogscats/sample'),Path('/root/.fastai/data/dogscats/test1'),Path('/root/.fastai/data/dogscats/export.pkl'),Path('/root/.fastai/data/dogscats/valid')]"
      ]
     },
     "execution_count": 8,
     "metadata": {},
     "output_type": "execute_result"
    }
   ],
   "source": [
    "# have a look at the folder\n",
    "path.ls()"
   ]
  },
  {
   "cell_type": "code",
   "execution_count": 9,
   "metadata": {},
   "outputs": [],
   "source": [
    "# Create the dataloaders\n",
    "# for more details check the fast.ai courses\n",
    "dls = ImageDataLoaders.from_folder(path, seed=12, item_tfms=Resize(460),\n",
    "                                    batch_tfms=aug_transforms(size=297), bs=24)"
   ]
  },
  {
   "cell_type": "code",
   "execution_count": 10,
   "metadata": {},
   "outputs": [],
   "source": [
    "# Create your model\n",
    "learn = vision_learner(dls, resnet50, metrics=error_rate).to_fp16()"
   ]
  },
  {
   "cell_type": "code",
   "execution_count": 11,
   "metadata": {
    "scrolled": true
   },
   "outputs": [
    {
     "data": {
      "text/html": [
       "\n",
       "<style>\n",
       "    /* Turns off some styling */\n",
       "    progress {\n",
       "        /* gets rid of default border in Firefox and Opera. */\n",
       "        border: none;\n",
       "        /* Needs to be in here for Safari polyfill so background images work as expected. */\n",
       "        background-size: auto;\n",
       "    }\n",
       "    .progress-bar-interrupted, .progress-bar-interrupted::-webkit-progress-bar {\n",
       "        background: #F44336;\n",
       "    }\n",
       "</style>\n"
      ],
      "text/plain": [
       "<IPython.core.display.HTML object>"
      ]
     },
     "metadata": {},
     "output_type": "display_data"
    },
    {
     "data": {
      "text/html": [
       "<table border=\"1\" class=\"dataframe\">\n",
       "  <thead>\n",
       "    <tr style=\"text-align: left;\">\n",
       "      <th>epoch</th>\n",
       "      <th>train_loss</th>\n",
       "      <th>valid_loss</th>\n",
       "      <th>error_rate</th>\n",
       "      <th>time</th>\n",
       "    </tr>\n",
       "  </thead>\n",
       "  <tbody>\n",
       "    <tr>\n",
       "      <td>0</td>\n",
       "      <td>0.046208</td>\n",
       "      <td>0.024270</td>\n",
       "      <td>0.008000</td>\n",
       "      <td>01:54</td>\n",
       "    </tr>\n",
       "  </tbody>\n",
       "</table>"
      ],
      "text/plain": [
       "<IPython.core.display.HTML object>"
      ]
     },
     "metadata": {},
     "output_type": "display_data"
    }
   ],
   "source": [
    "# Fine tune your model\n",
    "learn.fit_one_cycle(1)"
   ]
  },
  {
   "cell_type": "code",
   "execution_count": 12,
   "metadata": {},
   "outputs": [],
   "source": [
    "learn.unfreeze()"
   ]
  },
  {
   "cell_type": "code",
   "execution_count": 13,
   "metadata": {},
   "outputs": [
    {
     "data": {
      "text/html": [
       "\n",
       "<style>\n",
       "    /* Turns off some styling */\n",
       "    progress {\n",
       "        /* gets rid of default border in Firefox and Opera. */\n",
       "        border: none;\n",
       "        /* Needs to be in here for Safari polyfill so background images work as expected. */\n",
       "        background-size: auto;\n",
       "    }\n",
       "    .progress-bar-interrupted, .progress-bar-interrupted::-webkit-progress-bar {\n",
       "        background: #F44336;\n",
       "    }\n",
       "</style>\n"
      ],
      "text/plain": [
       "<IPython.core.display.HTML object>"
      ]
     },
     "metadata": {},
     "output_type": "display_data"
    },
    {
     "data": {
      "text/html": [
       "<table border=\"1\" class=\"dataframe\">\n",
       "  <thead>\n",
       "    <tr style=\"text-align: left;\">\n",
       "      <th>epoch</th>\n",
       "      <th>train_loss</th>\n",
       "      <th>valid_loss</th>\n",
       "      <th>error_rate</th>\n",
       "      <th>time</th>\n",
       "    </tr>\n",
       "  </thead>\n",
       "  <tbody>\n",
       "    <tr>\n",
       "      <td>0</td>\n",
       "      <td>0.134825</td>\n",
       "      <td>0.073909</td>\n",
       "      <td>0.028000</td>\n",
       "      <td>02:20</td>\n",
       "    </tr>\n",
       "  </tbody>\n",
       "</table>"
      ],
      "text/plain": [
       "<IPython.core.display.HTML object>"
      ]
     },
     "metadata": {},
     "output_type": "display_data"
    }
   ],
   "source": [
    "# Fine tune your model\n",
    "learn.fit_one_cycle(1)"
   ]
  },
  {
   "cell_type": "markdown",
   "metadata": {},
   "source": [
    "## 2.2 Test our model locally\n",
    "\n",
    "Let's see what our model says about one of the test pictures it has never seen."
   ]
  },
  {
   "cell_type": "code",
   "execution_count": 14,
   "metadata": {},
   "outputs": [],
   "source": [
    "image_location = str(path/\"test1/10789.jpg\")"
   ]
  },
  {
   "cell_type": "code",
   "execution_count": 15,
   "metadata": {},
   "outputs": [],
   "source": [
    "# Find an image to test our model with\n",
    "img = PILImage.create(image_location)"
   ]
  },
  {
   "cell_type": "code",
   "execution_count": 16,
   "metadata": {},
   "outputs": [
    {
     "data": {
      "image/png": "[encoded data removed]",
      "text/plain": [
       "PILImage mode=RGB size=350x254"
      ]
     },
     "execution_count": 16,
     "metadata": {},
     "output_type": "execute_result"
    }
   ],
   "source": [
    "# Pretty clear for us humans\n",
    "img"
   ]
  },
  {
   "cell_type": "code",
   "execution_count": 17,
   "metadata": {},
   "outputs": [
    {
     "data": {
      "text/html": [
       "\n",
       "<style>\n",
       "    /* Turns off some styling */\n",
       "    progress {\n",
       "        /* gets rid of default border in Firefox and Opera. */\n",
       "        border: none;\n",
       "        /* Needs to be in here for Safari polyfill so background images work as expected. */\n",
       "        background-size: auto;\n",
       "    }\n",
       "    .progress-bar-interrupted, .progress-bar-interrupted::-webkit-progress-bar {\n",
       "        background: #F44336;\n",
       "    }\n",
       "</style>\n"
      ],
      "text/plain": [
       "<IPython.core.display.HTML object>"
      ]
     },
     "metadata": {},
     "output_type": "display_data"
    },
    {
     "data": {
      "text/html": [],
      "text/plain": [
       "<IPython.core.display.HTML object>"
      ]
     },
     "metadata": {},
     "output_type": "display_data"
    },
    {
     "data": {
      "text/plain": [
       "('cats', TensorBase(0), TensorBase([0.9959, 0.0041]))"
      ]
     },
     "execution_count": 17,
     "metadata": {},
     "output_type": "execute_result"
    }
   ],
   "source": [
    "# Let's see what our model thinks\n",
    "learn.predict(img)"
   ]
  },
  {
   "cell_type": "markdown",
   "metadata": {},
   "source": [
    "# 3. Deployment - SeeMe.ai"
   ]
  },
  {
   "cell_type": "markdown",
   "metadata": {},
   "source": [
    "Once you have trained your model, it's time to get it into production."
   ]
  },
  {
   "cell_type": "markdown",
   "metadata": {},
   "source": [
    "## 3.1 Export your model"
   ]
  },
  {
   "cell_type": "code",
   "execution_count": 18,
   "metadata": {},
   "outputs": [],
   "source": [
    "# Put your model in eval model\n",
    "learn.model.eval();"
   ]
  },
  {
   "cell_type": "code",
   "execution_count": 19,
   "metadata": {},
   "outputs": [],
   "source": [
    "learn.export()"
   ]
  },
  {
   "cell_type": "markdown",
   "metadata": {},
   "source": [
    "## 3.2 Setup SeeMe SDK: Import, Register, Login"
   ]
  },
  {
   "cell_type": "code",
   "execution_count": 20,
   "metadata": {},
   "outputs": [],
   "source": [
    "# Import the SeeMe client\n",
    "from seeme import Client"
   ]
  },
  {
   "cell_type": "code",
   "execution_count": 21,
   "metadata": {},
   "outputs": [],
   "source": [
    "# Create a SeeMe client\n",
    "client = Client()"
   ]
  },
  {
   "cell_type": "code",
   "execution_count": null,
   "metadata": {},
   "outputs": [],
   "source": [
    "# If you haven't already registered, follow these steps:\n",
    "my_password =  # example: \"supersecurepasswordfromonepassword\"\n",
    "my_username =  # example: \"janvdp\"\n",
    "my_email =  # example: \"jan@seeme.ai\"\n",
    "my_firstname =  # example: \"Jan\"\n",
    "my_name =  # example: \"Van de Poel\"\n",
    "\n",
    "client.register(username=my_username, email=my_email, password=my_password, firstname=my_firstname, name=my_name)"
   ]
  },
  {
   "cell_type": "code",
   "execution_count": null,
   "metadata": {},
   "outputs": [],
   "source": [
    "# Once you have registered, you can log in:\n",
    "client.login(my_username, my_password);"
   ]
  },
  {
   "cell_type": "markdown",
   "metadata": {},
   "source": [
    "## 3.3 SeeMe.ai supports different applications and versions"
   ]
  },
  {
   "cell_type": "markdown",
   "metadata": {},
   "source": [
    "With SeeMe.ai we support different types of AI applications with different frameworks and framework versions. \n",
    "To have a look at the supported applications and their capabilities, you can print all the supported applications in the cell below.\n",
    "\n",
    "We currently support different versions of Fastai and object detection, but more frameworks are coming."
   ]
  },
  {
   "cell_type": "code",
   "execution_count": 42,
   "metadata": {},
   "outputs": [],
   "source": [
    "# Get the application_id for your framework (version).\n",
    "application_id = client.get_application_id(\n",
    "    base_framework=\"pytorch\",\n",
    "    framework=\"fastai\",\n",
    "    base_framework_version=str(torch.__version__),\n",
    "    framework_version=str(fastai.__version__),\n",
    "    application=\"image_classification\"\n",
    ")"
   ]
  },
  {
   "cell_type": "code",
   "execution_count": 22,
   "metadata": {},
   "outputs": [
    {
     "ename": "NameError",
     "evalue": "name 'application_id' is not defined",
     "output_type": "error",
     "traceback": [
      "\u001b[0;31m---------------------------------------------------------------------------\u001b[0m",
      "\u001b[0;31mNameError\u001b[0m                                 Traceback (most recent call last)",
      "\u001b[0;32m/tmp/ipykernel_47/1007593345.py\u001b[0m in \u001b[0;36m<module>\u001b[0;34m\u001b[0m\n\u001b[1;32m      5\u001b[0m     \u001b[0;34m\"name\"\u001b[0m\u001b[0;34m:\u001b[0m \u001b[0mmodel_name\u001b[0m\u001b[0;34m,\u001b[0m\u001b[0;34m\u001b[0m\u001b[0;34m\u001b[0m\u001b[0m\n\u001b[1;32m      6\u001b[0m     \u001b[0;34m\"description\"\u001b[0m\u001b[0;34m:\u001b[0m \u001b[0mdescription\u001b[0m\u001b[0;34m,\u001b[0m\u001b[0;34m\u001b[0m\u001b[0;34m\u001b[0m\u001b[0m\n\u001b[0;32m----> 7\u001b[0;31m     \u001b[0;34m\"application_id\"\u001b[0m\u001b[0;34m:\u001b[0m \u001b[0mapplication_id\u001b[0m\u001b[0;34m,\u001b[0m\u001b[0;34m\u001b[0m\u001b[0;34m\u001b[0m\u001b[0m\n\u001b[0m\u001b[1;32m      8\u001b[0m     \u001b[0;34m\"auto_convert\"\u001b[0m\u001b[0;34m:\u001b[0m \u001b[0;32mTrue\u001b[0m\u001b[0;34m\u001b[0m\u001b[0;34m\u001b[0m\u001b[0m\n\u001b[1;32m      9\u001b[0m })\n",
      "\u001b[0;31mNameError\u001b[0m: name 'application_id' is not defined"
     ]
    }
   ],
   "source": [
    "\n",
    "model_name = \"Cats and dogs classifier\"\n",
    "description = \"Created to be used...\"\n",
    "\n",
    "my_model = client.create_model(  {\n",
    "    \"name\": model_name,\n",
    "    \"description\": description,\n",
    "    \"application_id\": application_id,\n",
    "    \"auto_convert\": True\n",
    "})\n"
   ]
  },
  {
   "cell_type": "markdown",
   "metadata": {},
   "source": [
    "## 3.4 Upload your model"
   ]
  },
  {
   "cell_type": "code",
   "execution_count": 44,
   "metadata": {},
   "outputs": [
    {
     "data": {
      "text/plain": [
       "{'id': '9bee1adc-7b3e-431d-828b-2faac4d5e767',\n",
       " 'created_at': '2022-04-25T12:59:13.466248+02:00',\n",
       " 'updated_at': '2022-04-25T13:00:07.5175049+02:00',\n",
       " 'name': '',\n",
       " 'description': '',\n",
       " 'model_id': 'ad1b49a6-3541-43f7-8d75-2b6de10e5ac4',\n",
       " 'classes': '',\n",
       " 'accuracy': 0,\n",
       " 'user_id': 'd7159432-f218-44ac-aebe-e5d661d62862',\n",
       " 'can_inference': True,\n",
       " 'has_logo': False,\n",
       " 'logo': '',\n",
       " 'config': '',\n",
       " 'application_id': '7dff9f7d-695f-4262-be57-00aa4c882938',\n",
       " 'version': '1.0',\n",
       " 'version_number': 1,\n",
       " 'has_ml_model': True,\n",
       " 'has_onnx_model': True,\n",
       " 'has_tflite_model': True,\n",
       " 'has_labels_file': True,\n",
       " 'dataset_version_id': '',\n",
       " 'training_request_id': ''}"
      ]
     },
     "execution_count": 44,
     "metadata": {},
     "output_type": "execute_result"
    }
   ],
   "source": [
    "# Deploy your exported model.\n",
    "client.upload_model(my_model[\"id\"], str(path))\n",
    "\n",
    "# By default this takes the export.pkl created by learn.export(), but you can simply pass in a filename as well."
   ]
  },
  {
   "cell_type": "markdown",
   "metadata": {},
   "source": [
    "**Note**: if you are using the latest version of fastai, the model will automatically be converted to Onnx and CoreML."
   ]
  },
  {
   "cell_type": "markdown",
   "metadata": {},
   "source": [
    "\n",
    "## 3.5 Add a logo"
   ]
  },
  {
   "cell_type": "code",
   "execution_count": 29,
   "metadata": {},
   "outputs": [
    {
     "data": {
      "text/plain": [
       "{'id': '4411f360-25b5-4544-8666-a6a25da1bcf3',\n",
       " 'created_at': '2022-04-13T20:56:40.127365+02:00',\n",
       " 'updated_at': '2022-04-13T20:57:50.448558472+02:00',\n",
       " 'name': 'PT 1.10.0 - fa 2.5.6',\n",
       " 'description': 'Created to be used...',\n",
       " 'user_id': 'd7159432-f218-44ac-aebe-e5d661d62862',\n",
       " 'notes': '',\n",
       " 'has_logo': True,\n",
       " 'logo': '4411f360-25b5-4544-8666-a6a25da1bcf3.jpg',\n",
       " 'public': False,\n",
       " 'shared_with_me': False,\n",
       " 'active_version_id': 'aad84cda-ef3e-482d-8644-60024cd1eac0',\n",
       " 'classes': 'Cats and dogs',\n",
       " 'accuracy': 0,\n",
       " 'can_inference': True,\n",
       " 'kind': 'image_classification',\n",
       " 'config': '',\n",
       " 'application_id': '9b040987-94da-495f-a96b-e9cd0c60be52',\n",
       " 'has_ml_model': True,\n",
       " 'has_onnx_model': True,\n",
       " 'has_tflite_model': True,\n",
       " 'has_labels_file': True,\n",
       " 'auto_convert': True,\n",
       " 'privacy_enabled': False}"
      ]
     },
     "execution_count": 29,
     "metadata": {},
     "output_type": "execute_result"
    }
   ],
   "source": [
    "# Upload a logo for your model (optional)\n",
    "client.upload_logo(my_model[\"id\"], folder=str(path/\"test1\"), filename=\"19.jpg\")"
   ]
  },
  {
   "cell_type": "markdown",
   "metadata": {},
   "source": [
    "# 4. Use your model"
   ]
  },
  {
   "cell_type": "markdown",
   "metadata": {},
   "source": [
    "Once your model is deployed, you can use it in a number of ways:\n",
    "\n",
    "- [Python SDK](https://pypi.org/project/seeme/)\n",
    "- [Web app](https://app.seeme.ai)\n",
    "- [iOS - App Store](https://apps.apple.com/us/app/id1443724639)\n",
    "- [Android - Play Store](https://play.google.com/store/apps/details?id=ai.seeme)"
   ]
  },
  {
   "cell_type": "markdown",
   "metadata": {},
   "source": [
    "## 4.1 Python SDK"
   ]
  },
  {
   "cell_type": "markdown",
   "metadata": {},
   "source": [
    "You can now use the [Python SDK](https://pypi.org/project/seeme/) to make predictions from basically anywhere, provided you have:\n",
    "\n",
    "- SeeMe SDK installed\n",
    "- Login credentials\n",
    "- The 'id' of a deployed model\n",
    "- An image to classiy\n",
    "\n",
    "😃"
   ]
  },
  {
   "cell_type": "code",
   "execution_count": 31,
   "metadata": {},
   "outputs": [],
   "source": [
    "#image_location = \n",
    "image_location = path/\"test1/10789.jpg\""
   ]
  },
  {
   "cell_type": "code",
   "execution_count": 32,
   "metadata": {},
   "outputs": [],
   "source": [
    "# Here, we will use the Python SDK to classify our test image\n",
    "result = client.inference(my_model[\"id\"], image_location)"
   ]
  },
  {
   "cell_type": "code",
   "execution_count": 33,
   "metadata": {},
   "outputs": [
    {
     "data": {
      "text/plain": [
       "{'id': 'd65fe6f9-a3bb-44e5-b586-be120eaa647a',\n",
       " 'created_at': '2022-04-13T20:57:50.619548883+02:00',\n",
       " 'updated_at': '2022-04-13T20:57:50.735941397+02:00',\n",
       " 'name': '10789.jpg',\n",
       " 'description': '',\n",
       " 'prediction': 'cats',\n",
       " 'confidence': 0.83279157,\n",
       " 'model_id': '4411f360-25b5-4544-8666-a6a25da1bcf3',\n",
       " 'model_version_id': 'aad84cda-ef3e-482d-8644-60024cd1eac0',\n",
       " 'extension': 'jpg',\n",
       " 'user_id': 'd7159432-f218-44ac-aebe-e5d661d62862',\n",
       " 'error_reported': False,\n",
       " 'error': '',\n",
       " 'application_id': '9b040987-94da-495f-a96b-e9cd0c60be52',\n",
       " 'inference_host': 'image-pt-1-10-0-fa-2-5-6',\n",
       " 'inference_time': '115.151204ms',\n",
       " 'end_to_end_time': '',\n",
       " 'dataset_item_id': '',\n",
       " 'result': '',\n",
       " 'inference_items': None,\n",
       " 'hidden': False,\n",
       " 'privacy_enabled': False}"
      ]
     },
     "execution_count": 33,
     "metadata": {},
     "output_type": "execute_result"
    }
   ],
   "source": [
    "result"
   ]
  },
  {
   "cell_type": "code",
   "execution_count": 35,
   "metadata": {},
   "outputs": [
    {
     "name": "stdout",
     "output_type": "stream",
     "text": [
      "cats\n",
      "0.83279157\n"
     ]
    }
   ],
   "source": [
    "# Print out the results\n",
    "print(result[\"prediction\"])\n",
    "print(result[\"confidence\"])"
   ]
  },
  {
   "cell_type": "markdown",
   "metadata": {},
   "source": [
    "Make sure to check if they match the predictions from our model in the notebook."
   ]
  },
  {
   "cell_type": "markdown",
   "metadata": {},
   "source": [
    "## 4.2 SeeMe.ai web app"
   ]
  },
  {
   "cell_type": "markdown",
   "metadata": {},
   "source": [
    "You can open the web app via [app.seeme.ai](https://app.seeme.ai)"
   ]
  },
  {
   "cell_type": "markdown",
   "metadata": {},
   "source": [
    "Log in if you need to with the credentials used to register (my_username, my_password)."
   ]
  },
  {
   "cell_type": "markdown",
   "metadata": {},
   "source": [
    "If you've followed the steps above without changing anything, this is what you will see after logging in."
   ]
  },
  {
   "cell_type": "markdown",
   "metadata": {},
   "source": [
    "Click on the model to start making predictions."
   ]
  },
  {
   "cell_type": "markdown",
   "metadata": {},
   "source": [
    "![SeeMe.ai your model](images/seeme-ai-first-model-cats-dogs-edit.png)"
   ]
  },
  {
   "cell_type": "markdown",
   "metadata": {},
   "source": [
    "Here is what the detail screen looks like:"
   ]
  },
  {
   "cell_type": "markdown",
   "metadata": {},
   "source": [
    "![SeeMe.ai first model detail screen](images/seeme-ai-model-detail-screen.png)"
   ]
  },
  {
   "cell_type": "markdown",
   "metadata": {},
   "source": [
    "Next:\n",
    "\n",
    "- click on `select image`\n",
    "- find an image you would like to classify\n",
    "- click on analyze\n",
    "- Look at `result` and `confidence` to see what the prediction is."
   ]
  },
  {
   "cell_type": "markdown",
   "metadata": {},
   "source": [
    "![SeeMe.ai model prediction example](images/seeme-ai-model-prediction-example.png)"
   ]
  },
  {
   "cell_type": "markdown",
   "metadata": {},
   "source": [
    "# 4.3 iOS/Android"
   ]
  },
  {
   "cell_type": "markdown",
   "metadata": {},
   "source": [
    "You can also access all models - yours, shared, and public - on our native mobile apps. You can install them from the [iOS App Store](https://apps.apple.com/us/app/id1443724639) and [Android Play Store](https://play.google.com/store/apps/details?id=ai.seeme).\n",
    "\n",
    "Once you have logged in, you see the overview of models:\n",
    "\n",
    "![SeeMe.ai mobile list of models](images/seeme-ai-mobile-list-of-models.png)\n",
    "\n",
    "On the model detail, you can take pictures with the camera or select from the gallery:\n",
    "\n",
    "![SeeMe.ai model detail](images/seeme-ai-mobile-model-detail.png)\n",
    "\n",
    "And see what your model thinks:\n",
    "\n",
    "![SeeMe.ai model prediction](images/seeme-ai-model-prediction.png)\n",
    "\n",
    "Once your model has made a prediction, you will see a green button name \"Action\". When clicking that button, you have a number of choices:\n",
    "\n",
    "* search Google for your prediction\n",
    "* search Wikipedia for your prediction\n",
    "* Report a wrong prediction\n",
    "\n",
    "![SeeMe.ai follow up action](images/seeme-ai-mobile-action-selection.png)\n",
    "\n",
    "\n",
    "When you upload your trained model, we automatically convert it to [ONNX](https://onnx.ai/) and [Core ML](https://developer.apple.com/documentation/coreml), which enables you to install and use your AI Model on your device, even when you are offline. This feature is currently in preview.\n",
    "**Note: this feature requires fastai v2**\n",
    "\n",
    "This allows you to install and use the model on your device, even when you are offline. \n",
    "\n",
    "When the model is available to be installed, you will see the install button on the top right:\n",
    "\n",
    "![SeeMe.ai install model offline](images/seeme-ai-mobile-model-install-offline.png)\n",
    "\n",
    "Once installed, you can still switch between using the offline or online version of your model:\n",
    "\n",
    "![SeeMe.ai switch between online and offline model](images/seeme-ai-mobile-switch-online-offline.png)\n",
    "\n",
    "The screenshots above are all taken on iOS, however, on [Android](https://play.google.com/store/apps/details?id=ai.seeme) all these features work similarly, with one exception: Android offline models are still in development."
   ]
  },
  {
   "cell_type": "markdown",
   "metadata": {},
   "source": [
    "# 4.4 Other platforms"
   ]
  },
  {
   "cell_type": "markdown",
   "metadata": {},
   "source": [
    "If there is a particular platform you would live to use to make predictions and the above options don't work for you, we would be happy to hear from you. We offer API and Docker support as well."
   ]
  },
  {
   "cell_type": "markdown",
   "metadata": {},
   "source": [
    "# 5. Share your model"
   ]
  },
  {
   "cell_type": "markdown",
   "metadata": {},
   "source": [
    "Once you have tested your model, it is time to share it with friends."
   ]
  },
  {
   "cell_type": "markdown",
   "metadata": {},
   "source": [
    "Go back to the home page, and click the `edit` icon."
   ]
  },
  {
   "cell_type": "markdown",
   "metadata": {},
   "source": [
    "![SeeMe.ai edit your model](images/seeme-ai-first-model-cats-dogs-edit.png)"
   ]
  },
  {
   "cell_type": "markdown",
   "metadata": {},
   "source": [
    "You will go to the model detail screen:"
   ]
  },
  {
   "cell_type": "markdown",
   "metadata": {},
   "source": [
    "![SeeMe.ai Model detail](images/seeme-ai-model-detail.png)"
   ]
  },
  {
   "cell_type": "markdown",
   "metadata": {},
   "source": [
    "There you can invite people by entering their email address.\n",
    "\n",
    "You can also toggle the \"public/private\" switch, to share it publicly."
   ]
  },
  {
   "cell_type": "markdown",
   "metadata": {},
   "source": [
    "# 6. Support"
   ]
  },
  {
   "cell_type": "markdown",
   "metadata": {},
   "source": [
    "Feel free to contact us [support@seeme.ai](mailto:support@seeme.ai) with feedback, questions, or troubleshooting errors. Or just to say hi!"
   ]
  },
  {
   "cell_type": "code",
   "execution_count": null,
   "metadata": {},
   "outputs": [],
   "source": []
  }
 ],
 "metadata": {
  "kernelspec": {
   "display_name": "Python 3 (ipykernel)",
   "language": "python",
   "name": "python3"
  },
  "language_info": {
   "codemirror_mode": {
    "name": "ipython",
    "version": 3
   },
   "file_extension": ".py",
   "mimetype": "text/x-python",
   "name": "python",
   "nbconvert_exporter": "python",
   "pygments_lexer": "ipython3",
   "version": "3.7.11"
  }
 },
 "nbformat": 4,
 "nbformat_minor": 2
}
